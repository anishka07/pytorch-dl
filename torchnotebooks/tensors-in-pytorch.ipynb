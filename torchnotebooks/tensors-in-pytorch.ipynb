{
 "cells": [
  {
   "cell_type": "code",
   "id": "initial_id",
   "metadata": {
    "collapsed": true,
    "ExecuteTime": {
     "end_time": "2024-12-02T09:10:04.553290Z",
     "start_time": "2024-12-02T09:10:03.685154Z"
    }
   },
   "source": "!pip list | grep torch",
   "outputs": [
    {
     "name": "stdout",
     "output_type": "stream",
     "text": [
      "torch                                    2.4.0\r\n",
      "torchvision                              0.19.0\r\n"
     ]
    }
   ],
   "execution_count": 2
  },
  {
   "metadata": {
    "ExecuteTime": {
     "end_time": "2024-12-02T09:10:05.981689Z",
     "start_time": "2024-12-02T09:10:04.559324Z"
    }
   },
   "cell_type": "code",
   "source": [
    "import torch \n",
    "\n",
    "print(torch.__version__)"
   ],
   "id": "bd7b59a7139bf350",
   "outputs": [
    {
     "name": "stdout",
     "output_type": "stream",
     "text": [
      "2.4.0\n"
     ]
    }
   ],
   "execution_count": 3
  },
  {
   "metadata": {
    "ExecuteTime": {
     "end_time": "2024-12-02T09:10:06.058823Z",
     "start_time": "2024-12-02T09:10:06.056068Z"
    }
   },
   "cell_type": "code",
   "source": [
    "if torch.cuda.is_available():\n",
    "    print(f\"GPU:{torch.cuda.get_device_name(0)}\")\n",
    "else:\n",
    "    print(\"GPU is not available\")"
   ],
   "id": "b7f6c1f9f18d5523",
   "outputs": [
    {
     "name": "stdout",
     "output_type": "stream",
     "text": [
      "GPU is not available\n"
     ]
    }
   ],
   "execution_count": 4
  },
  {
   "metadata": {
    "ExecuteTime": {
     "end_time": "2024-12-02T09:10:30.049546Z",
     "start_time": "2024-12-02T09:10:30.040712Z"
    }
   },
   "cell_type": "code",
   "source": [
    "##creating a tensor\n",
    "\n",
    "# using empty \n",
    "a = torch.empty(2,3)"
   ],
   "id": "ad311e34eab17d5c",
   "outputs": [],
   "execution_count": 6
  },
  {
   "metadata": {
    "ExecuteTime": {
     "end_time": "2024-12-02T09:10:38.995953Z",
     "start_time": "2024-12-02T09:10:38.988419Z"
    }
   },
   "cell_type": "code",
   "source": [
    "# check type \n",
    "type(a)"
   ],
   "id": "9c0b1ff74d7f79a0",
   "outputs": [
    {
     "data": {
      "text/plain": [
       "torch.Tensor"
      ]
     },
     "execution_count": 7,
     "metadata": {},
     "output_type": "execute_result"
    }
   ],
   "execution_count": 7
  },
  {
   "metadata": {
    "ExecuteTime": {
     "end_time": "2024-12-02T09:10:50.783784Z",
     "start_time": "2024-12-02T09:10:50.767069Z"
    }
   },
   "cell_type": "code",
   "source": [
    "# using zeros \n",
    "torch.zeros(2,3)"
   ],
   "id": "a0297f8ee729ad18",
   "outputs": [
    {
     "data": {
      "text/plain": [
       "tensor([[0., 0., 0.],\n",
       "        [0., 0., 0.]])"
      ]
     },
     "execution_count": 8,
     "metadata": {},
     "output_type": "execute_result"
    }
   ],
   "execution_count": 8
  },
  {
   "metadata": {
    "ExecuteTime": {
     "end_time": "2024-12-02T09:11:06.778717Z",
     "start_time": "2024-12-02T09:11:06.755069Z"
    }
   },
   "cell_type": "code",
   "source": [
    "# using ones\n",
    "torch.ones(2,3)"
   ],
   "id": "3d8c4de71e412d46",
   "outputs": [
    {
     "data": {
      "text/plain": [
       "tensor([[1., 1., 1.],\n",
       "        [1., 1., 1.]])"
      ]
     },
     "execution_count": 9,
     "metadata": {},
     "output_type": "execute_result"
    }
   ],
   "execution_count": 9
  },
  {
   "metadata": {
    "ExecuteTime": {
     "end_time": "2024-12-02T09:11:27.707283Z",
     "start_time": "2024-12-02T09:11:27.702085Z"
    }
   },
   "cell_type": "code",
   "source": [
    "#using rand\n",
    "torch.rand(2,3) # random values"
   ],
   "id": "7266b873e3e6715f",
   "outputs": [
    {
     "data": {
      "text/plain": [
       "tensor([[0.4491, 0.2213, 0.7838],\n",
       "        [0.1717, 0.6096, 0.5746]])"
      ]
     },
     "execution_count": 11,
     "metadata": {},
     "output_type": "execute_result"
    }
   ],
   "execution_count": 11
  },
  {
   "metadata": {
    "ExecuteTime": {
     "end_time": "2024-12-02T09:12:15.046922Z",
     "start_time": "2024-12-02T09:12:15.028381Z"
    }
   },
   "cell_type": "code",
   "source": [
    "#using of seed\n",
    "torch.manual_seed(100)\n",
    "torch.rand(2,3)"
   ],
   "id": "d9c0243f8d9be167",
   "outputs": [
    {
     "data": {
      "text/plain": [
       "tensor([[0.1117, 0.8158, 0.2626],\n",
       "        [0.4839, 0.6765, 0.7539]])"
      ]
     },
     "execution_count": 12,
     "metadata": {},
     "output_type": "execute_result"
    }
   ],
   "execution_count": 12
  },
  {
   "metadata": {
    "ExecuteTime": {
     "end_time": "2024-12-02T09:12:36.040051Z",
     "start_time": "2024-12-02T09:12:36.026730Z"
    }
   },
   "cell_type": "code",
   "source": [
    "torch.manual_seed(100)\n",
    "torch.rand(2,3)\n",
    "## same values everytime"
   ],
   "id": "6de9d5bbf42f9fa0",
   "outputs": [
    {
     "data": {
      "text/plain": [
       "tensor([[0.1117, 0.8158, 0.2626],\n",
       "        [0.4839, 0.6765, 0.7539]])"
      ]
     },
     "execution_count": 15,
     "metadata": {},
     "output_type": "execute_result"
    }
   ],
   "execution_count": 15
  },
  {
   "metadata": {
    "ExecuteTime": {
     "end_time": "2024-12-02T09:13:55.346126Z",
     "start_time": "2024-12-02T09:13:55.339471Z"
    }
   },
   "cell_type": "code",
   "source": "torch.tensor([12,3]) #1D TENSOR",
   "id": "eaeea7c6bfe948a3",
   "outputs": [
    {
     "data": {
      "text/plain": [
       "tensor([12,  3])"
      ]
     },
     "execution_count": 18,
     "metadata": {},
     "output_type": "execute_result"
    }
   ],
   "execution_count": 18
  },
  {
   "metadata": {
    "ExecuteTime": {
     "end_time": "2024-12-02T09:13:58.956557Z",
     "start_time": "2024-12-02T09:13:58.951457Z"
    }
   },
   "cell_type": "code",
   "source": "torch.tensor([[12,3], [4,5]]) #2D TENSOR ",
   "id": "6b983673e427c037",
   "outputs": [
    {
     "data": {
      "text/plain": [
       "tensor([[12,  3],\n",
       "        [ 4,  5]])"
      ]
     },
     "execution_count": 19,
     "metadata": {},
     "output_type": "execute_result"
    }
   ],
   "execution_count": 19
  },
  {
   "metadata": {
    "ExecuteTime": {
     "end_time": "2024-12-02T09:14:36.950018Z",
     "start_time": "2024-12-02T09:14:36.939153Z"
    }
   },
   "cell_type": "code",
   "source": "torch.tensor([[1,2,3],[4,5,6],[7,8,9]]) #3D TENSOR",
   "id": "bbf9c191fa9f8e98",
   "outputs": [
    {
     "data": {
      "text/plain": [
       "tensor([[1, 2, 3],\n",
       "        [4, 5, 6],\n",
       "        [7, 8, 9]])"
      ]
     },
     "execution_count": 20,
     "metadata": {},
     "output_type": "execute_result"
    }
   ],
   "execution_count": 20
  },
  {
   "metadata": {
    "ExecuteTime": {
     "end_time": "2024-12-02T09:17:27.034877Z",
     "start_time": "2024-12-02T09:17:27.012180Z"
    }
   },
   "cell_type": "code",
   "source": [
    "# other ways\n",
    "\n",
    "#arange\n",
    "\n",
    "print(\"arange \", torch.arange(10))\n",
    "\n",
    "# using linspace \n",
    "\n",
    "print(\"linspace \", torch.linspace(0,20,7)) # linearly spaced\n",
    "\n",
    "# using eye\n",
    "\n",
    "print(\"eye\", torch.eye(5,5))\n",
    "\n",
    "#using full\n",
    "\n",
    "print(\"full\", torch.full((3,3), 89))"
   ],
   "id": "afd474ec0f2f1bd3",
   "outputs": [
    {
     "name": "stdout",
     "output_type": "stream",
     "text": [
      "arange  tensor([0, 1, 2, 3, 4, 5, 6, 7, 8, 9])\n",
      "linspace  tensor([ 0.0000,  3.3333,  6.6667, 10.0000, 13.3333, 16.6667, 20.0000])\n",
      "eye tensor([[1., 0., 0., 0., 0.],\n",
      "        [0., 1., 0., 0., 0.],\n",
      "        [0., 0., 1., 0., 0.],\n",
      "        [0., 0., 0., 1., 0.],\n",
      "        [0., 0., 0., 0., 1.]])\n",
      "full tensor([[89, 89, 89],\n",
      "        [89, 89, 89],\n",
      "        [89, 89, 89]])\n"
     ]
    }
   ],
   "execution_count": 26
  },
  {
   "metadata": {
    "ExecuteTime": {
     "end_time": "2024-12-02T09:18:24.632988Z",
     "start_time": "2024-12-02T09:18:24.621813Z"
    }
   },
   "cell_type": "code",
   "source": [
    "### tensor shapes\n",
    "\n",
    "\n",
    "x = torch.tensor([[1,2,3], [4,5,6], [7,8,9]])\n",
    "x.shape"
   ],
   "id": "4fd1abc41fd819fc",
   "outputs": [
    {
     "data": {
      "text/plain": [
       "torch.Size([3, 3])"
      ]
     },
     "execution_count": 27,
     "metadata": {},
     "output_type": "execute_result"
    }
   ],
   "execution_count": 27
  },
  {
   "metadata": {
    "ExecuteTime": {
     "end_time": "2024-12-02T09:19:05.037183Z",
     "start_time": "2024-12-02T09:19:05.020002Z"
    }
   },
   "cell_type": "code",
   "source": "torch.empty_like(x)",
   "id": "2b5783557a46ac35",
   "outputs": [
    {
     "data": {
      "text/plain": [
       "tensor([[0, 0, 0],\n",
       "        [0, 0, 0],\n",
       "        [0, 0, 0]])"
      ]
     },
     "execution_count": 28,
     "metadata": {},
     "output_type": "execute_result"
    }
   ],
   "execution_count": 28
  },
  {
   "metadata": {
    "ExecuteTime": {
     "end_time": "2024-12-02T09:19:23.262399Z",
     "start_time": "2024-12-02T09:19:23.249141Z"
    }
   },
   "cell_type": "code",
   "source": "torch.zeros_like(x)",
   "id": "a56a0ace5448885c",
   "outputs": [
    {
     "data": {
      "text/plain": [
       "tensor([[0, 0, 0],\n",
       "        [0, 0, 0],\n",
       "        [0, 0, 0]])"
      ]
     },
     "execution_count": 29,
     "metadata": {},
     "output_type": "execute_result"
    }
   ],
   "execution_count": 29
  },
  {
   "metadata": {
    "ExecuteTime": {
     "end_time": "2024-12-02T09:19:29.072421Z",
     "start_time": "2024-12-02T09:19:29.060031Z"
    }
   },
   "cell_type": "code",
   "source": "torch.ones_like(x)",
   "id": "6604b85758273122",
   "outputs": [
    {
     "data": {
      "text/plain": [
       "tensor([[1, 1, 1],\n",
       "        [1, 1, 1],\n",
       "        [1, 1, 1]])"
      ]
     },
     "execution_count": 30,
     "metadata": {},
     "output_type": "execute_result"
    }
   ],
   "execution_count": 30
  },
  {
   "metadata": {
    "ExecuteTime": {
     "end_time": "2024-12-02T09:23:01.457714Z",
     "start_time": "2024-12-02T09:23:01.442001Z"
    }
   },
   "cell_type": "code",
   "source": "torch.rand_like(x, dtype=torch.float32) ## only generates float so this code doesnot work",
   "id": "bd4e3faae62758f2",
   "outputs": [
    {
     "data": {
      "text/plain": [
       "tensor([[0.1033, 0.9702, 0.9481],\n",
       "        [0.9787, 0.3268, 0.9200],\n",
       "        [0.0503, 0.4583, 0.8608]])"
      ]
     },
     "execution_count": 40,
     "metadata": {},
     "output_type": "execute_result"
    }
   ],
   "execution_count": 40
  },
  {
   "metadata": {
    "ExecuteTime": {
     "end_time": "2024-12-02T09:20:33.474416Z",
     "start_time": "2024-12-02T09:20:33.465075Z"
    }
   },
   "cell_type": "code",
   "source": [
    "## data types \n",
    "\n",
    "\n",
    "x.dtype"
   ],
   "id": "15719d342ab16e5c",
   "outputs": [
    {
     "data": {
      "text/plain": [
       "torch.int64"
      ]
     },
     "execution_count": 34,
     "metadata": {},
     "output_type": "execute_result"
    }
   ],
   "execution_count": 34
  },
  {
   "metadata": {
    "ExecuteTime": {
     "end_time": "2024-12-02T09:21:22.376500Z",
     "start_time": "2024-12-02T09:21:22.371405Z"
    }
   },
   "cell_type": "code",
   "source": [
    "# assign data type \n",
    "\n",
    "y = torch.tensor([[1.0,2.0,3.0], [3.0,4.0,5.0]], dtype=torch.int32) # similar for float\n",
    "y"
   ],
   "id": "6266551af0fbc1a5",
   "outputs": [
    {
     "data": {
      "text/plain": [
       "tensor([[1, 2, 3],\n",
       "        [3, 4, 5]], dtype=torch.int32)"
      ]
     },
     "execution_count": 36,
     "metadata": {},
     "output_type": "execute_result"
    }
   ],
   "execution_count": 36
  },
  {
   "metadata": {
    "ExecuteTime": {
     "end_time": "2024-12-02T09:21:59.189859Z",
     "start_time": "2024-12-02T09:21:59.178601Z"
    }
   },
   "cell_type": "code",
   "source": "x.to(torch.float32)",
   "id": "a4dc3f64ca479895",
   "outputs": [
    {
     "data": {
      "text/plain": [
       "tensor([[1., 2., 3.],\n",
       "        [4., 5., 6.],\n",
       "        [7., 8., 9.]])"
      ]
     },
     "execution_count": 38,
     "metadata": {},
     "output_type": "execute_result"
    }
   ],
   "execution_count": 38
  },
  {
   "metadata": {
    "ExecuteTime": {
     "end_time": "2024-12-02T09:23:39.030513Z",
     "start_time": "2024-12-02T09:23:39.014747Z"
    }
   },
   "cell_type": "code",
   "source": [
    "### mathematical operations \n",
    "\n",
    "# scalar\n",
    "\n",
    "x = torch.rand(2,2)\n",
    "x"
   ],
   "id": "e51af39531153833",
   "outputs": [
    {
     "data": {
      "text/plain": [
       "tensor([[0.4882, 0.7981],\n",
       "        [0.2011, 0.1914]])"
      ]
     },
     "execution_count": 41,
     "metadata": {},
     "output_type": "execute_result"
    }
   ],
   "execution_count": 41
  },
  {
   "metadata": {
    "ExecuteTime": {
     "end_time": "2024-12-02T09:23:54.982188Z",
     "start_time": "2024-12-02T09:23:54.960169Z"
    }
   },
   "cell_type": "code",
   "source": [
    "# add\n",
    "x+2\n",
    "## similarly we can do sub, mul, div, int div i.e. //, mod, power\n"
   ],
   "id": "4b9bba8d6e41835e",
   "outputs": [
    {
     "data": {
      "text/plain": [
       "tensor([[2.4882, 2.7981],\n",
       "        [2.2011, 2.1914]])"
      ]
     },
     "execution_count": 42,
     "metadata": {},
     "output_type": "execute_result"
    }
   ],
   "execution_count": 42
  },
  {
   "metadata": {
    "ExecuteTime": {
     "end_time": "2024-12-02T09:25:14.936325Z",
     "start_time": "2024-12-02T09:25:14.928926Z"
    }
   },
   "cell_type": "code",
   "source": [
    "a = torch.rand(2,3)\n",
    "b = torch.rand(2,3)"
   ],
   "id": "93fa8e08d948dd5e",
   "outputs": [],
   "execution_count": 43
  },
  {
   "metadata": {
    "ExecuteTime": {
     "end_time": "2024-12-02T09:25:17.441038Z",
     "start_time": "2024-12-02T09:25:17.435412Z"
    }
   },
   "cell_type": "code",
   "source": "a+b",
   "id": "4fd29f7af4b0d9cd",
   "outputs": [
    {
     "data": {
      "text/plain": [
       "tensor([[1.4477, 1.0211, 0.6410],\n",
       "        [0.7730, 1.9828, 1.3718]])"
      ]
     },
     "execution_count": 44,
     "metadata": {},
     "output_type": "execute_result"
    }
   ],
   "execution_count": 44
  },
  {
   "metadata": {
    "ExecuteTime": {
     "end_time": "2024-12-02T09:25:20.065067Z",
     "start_time": "2024-12-02T09:25:20.051212Z"
    }
   },
   "cell_type": "code",
   "source": "a-b",
   "id": "8aa44cd9a8881411",
   "outputs": [
    {
     "data": {
      "text/plain": [
       "tensor([[ 0.3481,  0.8871,  0.4074],\n",
       "        [ 0.4282, -0.0052,  0.1230]])"
      ]
     },
     "execution_count": 45,
     "metadata": {},
     "output_type": "execute_result"
    }
   ],
   "execution_count": 45
  },
  {
   "metadata": {
    "ExecuteTime": {
     "end_time": "2024-12-02T09:25:22.838567Z",
     "start_time": "2024-12-02T09:25:22.822153Z"
    }
   },
   "cell_type": "code",
   "source": "a*b",
   "id": "ab83a2831f2f277a",
   "outputs": [
    {
     "data": {
      "text/plain": [
       "tensor([[0.4937, 0.0639, 0.0612],\n",
       "        [0.1035, 0.9828, 0.4666]])"
      ]
     },
     "execution_count": 46,
     "metadata": {},
     "output_type": "execute_result"
    }
   ],
   "execution_count": 46
  },
  {
   "metadata": {
    "ExecuteTime": {
     "end_time": "2024-12-02T09:25:25.114494Z",
     "start_time": "2024-12-02T09:25:25.095500Z"
    }
   },
   "cell_type": "code",
   "source": "a/b",
   "id": "f64c0b145c3729a4",
   "outputs": [
    {
     "data": {
      "text/plain": [
       "tensor([[ 1.6332, 14.2372,  4.4884],\n",
       "        [ 3.4843,  0.9948,  1.1970]])"
      ]
     },
     "execution_count": 47,
     "metadata": {},
     "output_type": "execute_result"
    }
   ],
   "execution_count": 47
  },
  {
   "metadata": {
    "ExecuteTime": {
     "end_time": "2024-12-02T09:25:28.187754Z",
     "start_time": "2024-12-02T09:25:28.164104Z"
    }
   },
   "cell_type": "code",
   "source": "a//b",
   "id": "ae3bedcb1af3097",
   "outputs": [
    {
     "data": {
      "text/plain": [
       "tensor([[ 1., 14.,  4.],\n",
       "        [ 3.,  0.,  1.]])"
      ]
     },
     "execution_count": 48,
     "metadata": {},
     "output_type": "execute_result"
    }
   ],
   "execution_count": 48
  },
  {
   "metadata": {
    "ExecuteTime": {
     "end_time": "2024-12-02T09:25:39.737312Z",
     "start_time": "2024-12-02T09:25:39.718565Z"
    }
   },
   "cell_type": "code",
   "source": "a**b",
   "id": "d095841ef159ad03",
   "outputs": [
    {
     "data": {
      "text/plain": [
       "tensor([[0.9425, 0.9969, 0.9273],\n",
       "        [0.9159, 0.9888, 0.8338]])"
      ]
     },
     "execution_count": 49,
     "metadata": {},
     "output_type": "execute_result"
    }
   ],
   "execution_count": 49
  },
  {
   "metadata": {
    "ExecuteTime": {
     "end_time": "2024-12-02T09:25:43.392683Z",
     "start_time": "2024-12-02T09:25:43.376849Z"
    }
   },
   "cell_type": "code",
   "source": "a%b",
   "id": "770be666884e0b6",
   "outputs": [
    {
     "data": {
      "text/plain": [
       "tensor([[0.3481, 0.0159, 0.0570],\n",
       "        [0.0835, 0.9888, 0.1230]])"
      ]
     },
     "execution_count": 50,
     "metadata": {},
     "output_type": "execute_result"
    }
   ],
   "execution_count": 50
  },
  {
   "metadata": {
    "ExecuteTime": {
     "end_time": "2024-12-02T09:26:11.559950Z",
     "start_time": "2024-12-02T09:26:11.542498Z"
    }
   },
   "cell_type": "code",
   "source": [
    "c = torch.tensor([1, -2, 3, -4])\n",
    "\n",
    "torch.abs(c)"
   ],
   "id": "8e8b4cd068eb0b32",
   "outputs": [
    {
     "data": {
      "text/plain": [
       "tensor([1, 2, 3, 4])"
      ]
     },
     "execution_count": 51,
     "metadata": {},
     "output_type": "execute_result"
    }
   ],
   "execution_count": 51
  },
  {
   "metadata": {
    "ExecuteTime": {
     "end_time": "2024-12-02T09:27:08.207781Z",
     "start_time": "2024-12-02T09:27:08.197938Z"
    }
   },
   "cell_type": "code",
   "source": "c = torch.tensor([1, 2,4, 5, 6,7])",
   "id": "528ba1aaadd3ac3b",
   "outputs": [],
   "execution_count": 56
  },
  {
   "metadata": {
    "ExecuteTime": {
     "end_time": "2024-12-02T09:27:09.167395Z",
     "start_time": "2024-12-02T09:27:09.161971Z"
    }
   },
   "cell_type": "code",
   "source": "torch.neg(c)",
   "id": "5b171cb80baa3a6f",
   "outputs": [
    {
     "data": {
      "text/plain": [
       "tensor([-1, -2, -4, -5, -6, -7])"
      ]
     },
     "execution_count": 57,
     "metadata": {},
     "output_type": "execute_result"
    }
   ],
   "execution_count": 57
  },
  {
   "metadata": {
    "ExecuteTime": {
     "end_time": "2024-12-02T09:27:09.979291Z",
     "start_time": "2024-12-02T09:27:09.974280Z"
    }
   },
   "cell_type": "code",
   "source": "torch.round(c)",
   "id": "f0b786d76e0c1c52",
   "outputs": [
    {
     "data": {
      "text/plain": [
       "tensor([1, 2, 4, 5, 6, 7])"
      ]
     },
     "execution_count": 58,
     "metadata": {},
     "output_type": "execute_result"
    }
   ],
   "execution_count": 58
  },
  {
   "metadata": {
    "ExecuteTime": {
     "end_time": "2024-12-02T09:27:10.463308Z",
     "start_time": "2024-12-02T09:27:10.460173Z"
    }
   },
   "cell_type": "code",
   "source": "torch.ceil(c)",
   "id": "dfe167332d3386c1",
   "outputs": [
    {
     "data": {
      "text/plain": [
       "tensor([1, 2, 4, 5, 6, 7])"
      ]
     },
     "execution_count": 59,
     "metadata": {},
     "output_type": "execute_result"
    }
   ],
   "execution_count": 59
  },
  {
   "metadata": {
    "ExecuteTime": {
     "end_time": "2024-12-02T09:27:11.278824Z",
     "start_time": "2024-12-02T09:27:11.273493Z"
    }
   },
   "cell_type": "code",
   "source": "torch.floor(c)",
   "id": "5aca5b62b2acfbf8",
   "outputs": [
    {
     "data": {
      "text/plain": [
       "tensor([1, 2, 4, 5, 6, 7])"
      ]
     },
     "execution_count": 60,
     "metadata": {},
     "output_type": "execute_result"
    }
   ],
   "execution_count": 60
  },
  {
   "metadata": {
    "ExecuteTime": {
     "end_time": "2024-12-02T09:29:36.007746Z",
     "start_time": "2024-12-02T09:29:36.001063Z"
    }
   },
   "cell_type": "code",
   "source": [
    "d = torch.randint(\n",
    "    size=(2, 3),\n",
    "    low=0,\n",
    "    high=10,\n",
    "    dtype=torch.float32,\n",
    ")"
   ],
   "id": "80d2c08490279824",
   "outputs": [],
   "execution_count": 69
  },
  {
   "metadata": {
    "ExecuteTime": {
     "end_time": "2024-12-02T09:28:21.057912Z",
     "start_time": "2024-12-02T09:28:21.053717Z"
    }
   },
   "cell_type": "code",
   "source": "d",
   "id": "c71c9b0410fb632e",
   "outputs": [
    {
     "data": {
      "text/plain": [
       "tensor([[8, 8, 4],\n",
       "        [2, 4, 1]])"
      ]
     },
     "execution_count": 63,
     "metadata": {},
     "output_type": "execute_result"
    }
   ],
   "execution_count": 63
  },
  {
   "metadata": {
    "ExecuteTime": {
     "end_time": "2024-12-02T09:28:26.374552Z",
     "start_time": "2024-12-02T09:28:26.362387Z"
    }
   },
   "cell_type": "code",
   "source": "torch.sum(d)",
   "id": "a9cf8155efa1511b",
   "outputs": [
    {
     "data": {
      "text/plain": [
       "tensor(27)"
      ]
     },
     "execution_count": 64,
     "metadata": {},
     "output_type": "execute_result"
    }
   ],
   "execution_count": 64
  },
  {
   "metadata": {
    "ExecuteTime": {
     "end_time": "2024-12-02T09:28:51.867917Z",
     "start_time": "2024-12-02T09:28:51.863788Z"
    }
   },
   "cell_type": "code",
   "source": "torch.sum(d, dim=0)",
   "id": "5fd0bfee71e8b5a0",
   "outputs": [
    {
     "data": {
      "text/plain": [
       "tensor([10, 12,  5])"
      ]
     },
     "execution_count": 66,
     "metadata": {},
     "output_type": "execute_result"
    }
   ],
   "execution_count": 66
  },
  {
   "metadata": {
    "ExecuteTime": {
     "end_time": "2024-12-02T09:29:01.402578Z",
     "start_time": "2024-12-02T09:29:01.384850Z"
    }
   },
   "cell_type": "code",
   "source": "torch.sum(d, dim=1)",
   "id": "ef0fd821922bf6cf",
   "outputs": [
    {
     "data": {
      "text/plain": [
       "tensor([20,  7])"
      ]
     },
     "execution_count": 67,
     "metadata": {},
     "output_type": "execute_result"
    }
   ],
   "execution_count": 67
  },
  {
   "metadata": {
    "ExecuteTime": {
     "end_time": "2024-12-02T09:30:03.846032Z",
     "start_time": "2024-12-02T09:30:03.825111Z"
    }
   },
   "cell_type": "code",
   "source": "torch.mean(d), torch.mean(d, dim=0)",
   "id": "bd234d2159c0ab84",
   "outputs": [
    {
     "data": {
      "text/plain": [
       "(tensor(8.5000), tensor([7.5000, 9.0000, 9.0000]))"
      ]
     },
     "execution_count": 72,
     "metadata": {},
     "output_type": "execute_result"
    }
   ],
   "execution_count": 72
  },
  {
   "metadata": {
    "ExecuteTime": {
     "end_time": "2024-12-02T09:29:47.487901Z",
     "start_time": "2024-12-02T09:29:47.472342Z"
    }
   },
   "cell_type": "code",
   "source": "torch.median(d)",
   "id": "e1f1f681566f884a",
   "outputs": [
    {
     "data": {
      "text/plain": [
       "tensor(9.)"
      ]
     },
     "execution_count": 71,
     "metadata": {},
     "output_type": "execute_result"
    }
   ],
   "execution_count": 71
  },
  {
   "metadata": {
    "ExecuteTime": {
     "end_time": "2024-12-02T09:30:08.864992Z",
     "start_time": "2024-12-02T09:30:08.844306Z"
    }
   },
   "cell_type": "code",
   "source": "torch.prod(d)",
   "id": "91268198ad81225e",
   "outputs": [
    {
     "data": {
      "text/plain": [
       "tensor(367416.)"
      ]
     },
     "execution_count": 73,
     "metadata": {},
     "output_type": "execute_result"
    }
   ],
   "execution_count": 73
  },
  {
   "metadata": {
    "ExecuteTime": {
     "end_time": "2024-12-02T09:30:13.792340Z",
     "start_time": "2024-12-02T09:30:13.776612Z"
    }
   },
   "cell_type": "code",
   "source": "torch.std(d)",
   "id": "d0386be9d214f4b5",
   "outputs": [
    {
     "data": {
      "text/plain": [
       "tensor(0.8367)"
      ]
     },
     "execution_count": 74,
     "metadata": {},
     "output_type": "execute_result"
    }
   ],
   "execution_count": 74
  },
  {
   "metadata": {
    "ExecuteTime": {
     "end_time": "2024-12-02T09:30:18.564112Z",
     "start_time": "2024-12-02T09:30:18.544851Z"
    }
   },
   "cell_type": "code",
   "source": "torch.var(d)",
   "id": "7cc60d10529a88ab",
   "outputs": [
    {
     "data": {
      "text/plain": [
       "tensor(0.7000)"
      ]
     },
     "execution_count": 75,
     "metadata": {},
     "output_type": "execute_result"
    }
   ],
   "execution_count": 75
  },
  {
   "metadata": {
    "ExecuteTime": {
     "end_time": "2024-12-02T09:30:25.031510Z",
     "start_time": "2024-12-02T09:30:25.020099Z"
    }
   },
   "cell_type": "code",
   "source": "torch.argmax(d)",
   "id": "9081d2c932d8abc3",
   "outputs": [
    {
     "data": {
      "text/plain": [
       "tensor(1)"
      ]
     },
     "execution_count": 76,
     "metadata": {},
     "output_type": "execute_result"
    }
   ],
   "execution_count": 76
  },
  {
   "metadata": {
    "ExecuteTime": {
     "end_time": "2024-12-02T09:30:51.196799Z",
     "start_time": "2024-12-02T09:30:51.181075Z"
    }
   },
   "cell_type": "code",
   "source": "torch.argmin(d)",
   "id": "5f8ca14d168f2198",
   "outputs": [
    {
     "data": {
      "text/plain": [
       "tensor(0)"
      ]
     },
     "execution_count": 77,
     "metadata": {},
     "output_type": "execute_result"
    }
   ],
   "execution_count": 77
  },
  {
   "metadata": {
    "ExecuteTime": {
     "end_time": "2024-12-02T09:31:34.241313Z",
     "start_time": "2024-12-02T09:31:34.232669Z"
    }
   },
   "cell_type": "code",
   "source": [
    "a = torch.rand(2,3)\n",
    "b = torch.rand(3,3)\n",
    "torch.matmul(a, b)"
   ],
   "id": "f214943fc2cfadc5",
   "outputs": [
    {
     "data": {
      "text/plain": [
       "tensor([[1.1337, 1.1318, 1.2645],\n",
       "        [0.7755, 0.7986, 0.8281]])"
      ]
     },
     "execution_count": 79,
     "metadata": {},
     "output_type": "execute_result"
    }
   ],
   "execution_count": 79
  },
  {
   "metadata": {
    "ExecuteTime": {
     "end_time": "2024-12-02T09:31:58.586296Z",
     "start_time": "2024-12-02T09:31:58.572307Z"
    }
   },
   "cell_type": "code",
   "source": [
    "vector1 = torch.tensor([1,2])\n",
    "vector2 = torch.tensor([3,4])\n",
    "torch.dot(vector1, vector2)"
   ],
   "id": "9dc5fb8b99f0eb90",
   "outputs": [
    {
     "data": {
      "text/plain": [
       "tensor(11)"
      ]
     },
     "execution_count": 80,
     "metadata": {},
     "output_type": "execute_result"
    }
   ],
   "execution_count": 80
  },
  {
   "metadata": {
    "ExecuteTime": {
     "end_time": "2024-12-02T09:33:37.887156Z",
     "start_time": "2024-12-02T09:33:37.859900Z"
    }
   },
   "cell_type": "code",
   "source": "torch.transpose(torch.tensor([[1,2], [3,4]]), 0, 1)",
   "id": "214af5fe032fabe5",
   "outputs": [
    {
     "data": {
      "text/plain": [
       "tensor([[1, 3],\n",
       "        [2, 4]])"
      ]
     },
     "execution_count": 87,
     "metadata": {},
     "output_type": "execute_result"
    }
   ],
   "execution_count": 87
  },
  {
   "metadata": {},
   "cell_type": "code",
   "outputs": [],
   "execution_count": null,
   "source": [
    "# torch.det()\n",
    "# torch.inverse(\n",
    "\n"
   ],
   "id": "70c4cfdcf6b98c25"
  },
  {
   "metadata": {},
   "cell_type": "code",
   "outputs": [],
   "execution_count": null,
   "source": "",
   "id": "f266f9404b8d908f"
  }
 ],
 "metadata": {
  "kernelspec": {
   "display_name": "Python 3",
   "language": "python",
   "name": "python3"
  },
  "language_info": {
   "codemirror_mode": {
    "name": "ipython",
    "version": 2
   },
   "file_extension": ".py",
   "mimetype": "text/x-python",
   "name": "python",
   "nbconvert_exporter": "python",
   "pygments_lexer": "ipython2",
   "version": "2.7.6"
  }
 },
 "nbformat": 4,
 "nbformat_minor": 5
}
