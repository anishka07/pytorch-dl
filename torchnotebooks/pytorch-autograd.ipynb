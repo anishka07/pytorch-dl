{
 "cells": [
  {
   "cell_type": "code",
   "id": "initial_id",
   "metadata": {
    "collapsed": true,
    "ExecuteTime": {
     "end_time": "2024-12-04T10:11:36.580519Z",
     "start_time": "2024-12-04T10:11:36.572434Z"
    }
   },
   "source": "import torch",
   "outputs": [],
   "execution_count": 34
  },
  {
   "metadata": {
    "ExecuteTime": {
     "end_time": "2024-12-04T10:11:36.590547Z",
     "start_time": "2024-12-04T10:11:36.587434Z"
    }
   },
   "cell_type": "code",
   "source": [
    "def dy_dx(x):\n",
    "    return 2*x"
   ],
   "id": "cb5f0edf822836ea",
   "outputs": [],
   "execution_count": 35
  },
  {
   "metadata": {
    "ExecuteTime": {
     "end_time": "2024-12-04T10:11:36.608096Z",
     "start_time": "2024-12-04T10:11:36.604654Z"
    }
   },
   "cell_type": "code",
   "source": "dy_dx(4)",
   "id": "c15c09f4ed24c146",
   "outputs": [
    {
     "data": {
      "text/plain": [
       "8"
      ]
     },
     "execution_count": 36,
     "metadata": {},
     "output_type": "execute_result"
    }
   ],
   "execution_count": 36
  },
  {
   "metadata": {
    "ExecuteTime": {
     "end_time": "2024-12-04T10:11:36.640513Z",
     "start_time": "2024-12-04T10:11:36.637736Z"
    }
   },
   "cell_type": "code",
   "source": [
    "import math\n",
    "def dz_dx(x):\n",
    "    return 2*x*math.cos(x**2)"
   ],
   "id": "ead69f184d76bb0",
   "outputs": [],
   "execution_count": 37
  },
  {
   "metadata": {
    "ExecuteTime": {
     "end_time": "2024-12-04T10:11:36.657588Z",
     "start_time": "2024-12-04T10:11:36.654789Z"
    }
   },
   "cell_type": "code",
   "source": "dz_dx(3)",
   "id": "89867945087e84cc",
   "outputs": [
    {
     "data": {
      "text/plain": [
       "-5.466781571308061"
      ]
     },
     "execution_count": 38,
     "metadata": {},
     "output_type": "execute_result"
    }
   ],
   "execution_count": 38
  },
  {
   "metadata": {
    "ExecuteTime": {
     "end_time": "2024-12-04T10:11:36.672590Z",
     "start_time": "2024-12-04T10:11:36.670447Z"
    }
   },
   "cell_type": "code",
   "source": "x = torch.tensor(3.0, requires_grad=True) # this means we want to calculate the derivative of this tensor.",
   "id": "4f6d99d6961bb739",
   "outputs": [],
   "execution_count": 39
  },
  {
   "metadata": {
    "ExecuteTime": {
     "end_time": "2024-12-04T10:11:36.693448Z",
     "start_time": "2024-12-04T10:11:36.690705Z"
    }
   },
   "cell_type": "code",
   "source": "y = x**2",
   "id": "6d5ff4398be63a4c",
   "outputs": [],
   "execution_count": 40
  },
  {
   "metadata": {
    "ExecuteTime": {
     "end_time": "2024-12-04T10:11:36.707005Z",
     "start_time": "2024-12-04T10:11:36.703436Z"
    }
   },
   "cell_type": "code",
   "source": "x, y",
   "id": "1b423b9177e1c100",
   "outputs": [
    {
     "data": {
      "text/plain": [
       "(tensor(3., requires_grad=True), tensor(9., grad_fn=<PowBackward0>))"
      ]
     },
     "execution_count": 41,
     "metadata": {},
     "output_type": "execute_result"
    }
   ],
   "execution_count": 41
  },
  {
   "metadata": {
    "ExecuteTime": {
     "end_time": "2024-12-04T10:11:36.732697Z",
     "start_time": "2024-12-04T10:11:36.729399Z"
    }
   },
   "cell_type": "code",
   "source": "y.backward()",
   "id": "296cffdc8850eb9a",
   "outputs": [],
   "execution_count": 42
  },
  {
   "metadata": {
    "ExecuteTime": {
     "end_time": "2024-12-04T10:11:36.754982Z",
     "start_time": "2024-12-04T10:11:36.750585Z"
    }
   },
   "cell_type": "code",
   "source": "x.grad",
   "id": "47d62db014c9490d",
   "outputs": [
    {
     "data": {
      "text/plain": [
       "tensor(6.)"
      ]
     },
     "execution_count": 43,
     "metadata": {},
     "output_type": "execute_result"
    }
   ],
   "execution_count": 43
  },
  {
   "metadata": {
    "ExecuteTime": {
     "end_time": "2024-12-04T10:11:36.770357Z",
     "start_time": "2024-12-04T10:11:36.767772Z"
    }
   },
   "cell_type": "code",
   "source": [
    "x = torch.tensor(4.0, requires_grad=True)\n",
    "y = x**2"
   ],
   "id": "7cf93026bf655f4",
   "outputs": [],
   "execution_count": 44
  },
  {
   "metadata": {
    "ExecuteTime": {
     "end_time": "2024-12-04T10:11:36.790543Z",
     "start_time": "2024-12-04T10:11:36.788015Z"
    }
   },
   "cell_type": "code",
   "source": "z = torch.sin(y)",
   "id": "2f2714218c4aae3",
   "outputs": [],
   "execution_count": 45
  },
  {
   "metadata": {
    "ExecuteTime": {
     "end_time": "2024-12-04T10:11:36.814108Z",
     "start_time": "2024-12-04T10:11:36.808143Z"
    }
   },
   "cell_type": "code",
   "source": "x, y, z",
   "id": "be3f76bb4cf1b8b6",
   "outputs": [
    {
     "data": {
      "text/plain": [
       "(tensor(4., requires_grad=True),\n",
       " tensor(16., grad_fn=<PowBackward0>),\n",
       " tensor(-0.2879, grad_fn=<SinBackward0>))"
      ]
     },
     "execution_count": 46,
     "metadata": {},
     "output_type": "execute_result"
    }
   ],
   "execution_count": 46
  },
  {
   "metadata": {
    "ExecuteTime": {
     "end_time": "2024-12-04T10:11:36.910330Z",
     "start_time": "2024-12-04T10:11:36.906801Z"
    }
   },
   "cell_type": "code",
   "source": "z.backward()",
   "id": "934c0bdcf3c3a45d",
   "outputs": [],
   "execution_count": 47
  },
  {
   "metadata": {
    "ExecuteTime": {
     "end_time": "2024-12-04T10:11:36.925572Z",
     "start_time": "2024-12-04T10:11:36.921692Z"
    }
   },
   "cell_type": "code",
   "source": "x.grad",
   "id": "29e5e79706d08d6c",
   "outputs": [
    {
     "data": {
      "text/plain": [
       "tensor(-7.6613)"
      ]
     },
     "execution_count": 48,
     "metadata": {},
     "output_type": "execute_result"
    }
   ],
   "execution_count": 48
  },
  {
   "metadata": {
    "ExecuteTime": {
     "end_time": "2024-12-04T10:15:06.650527Z",
     "start_time": "2024-12-04T10:15:06.643134Z"
    }
   },
   "cell_type": "code",
   "source": [
    "x = torch.tensor(6.7)\n",
    "y = torch.tensor(0.0)\n",
    "w = torch.tensor(1.0)\n",
    "b = torch.tensor(0.0)\n"
   ],
   "id": "a9090fe5b06301b3",
   "outputs": [],
   "execution_count": 61
  },
  {
   "metadata": {
    "ExecuteTime": {
     "end_time": "2024-12-04T10:15:07.264755Z",
     "start_time": "2024-12-04T10:15:07.260037Z"
    }
   },
   "cell_type": "code",
   "source": [
    "def binary_cross_entropy(prediction, target):\n",
    "    epsilon = 1e-8\n",
    "    prediction = torch.clamp(prediction, epsilon, 1 - epsilon)\n",
    "    return -(target * torch.log(prediction) + (1 - target) * torch.log(1 - prediction))"
   ],
   "id": "50f719e5168a8f36",
   "outputs": [],
   "execution_count": 62
  },
  {
   "metadata": {
    "ExecuteTime": {
     "end_time": "2024-12-04T10:15:07.833392Z",
     "start_time": "2024-12-04T10:15:07.828598Z"
    }
   },
   "cell_type": "code",
   "source": [
    "z = w * x + b\n",
    "y_pred = torch.sigmoid(z)\n",
    "\n",
    "loss = binary_cross_entropy(y_pred, y)\n",
    "loss"
   ],
   "id": "3be2daeac1d949ca",
   "outputs": [
    {
     "data": {
      "text/plain": [
       "tensor(6.7012)"
      ]
     },
     "execution_count": 63,
     "metadata": {},
     "output_type": "execute_result"
    }
   ],
   "execution_count": 63
  },
  {
   "metadata": {
    "ExecuteTime": {
     "end_time": "2024-12-04T10:15:08.691968Z",
     "start_time": "2024-12-04T10:15:08.685262Z"
    }
   },
   "cell_type": "code",
   "source": [
    "# Derivatives:\n",
    "# 1. dL/d(y_pred): Loss with respect to the prediction (y_pred)\n",
    "dloss_dy_pred = (y_pred - y)/(y_pred*(1-y_pred))\n",
    "\n",
    "# 2. dy_pred/dz: Prediction (y_pred) with respect to z (sigmoid derivative)\n",
    "dy_pred_dz = y_pred * (1 - y_pred)\n",
    "\n",
    "# 3. dz/dw and dz/db: z with respect to w and b\n",
    "dz_dw = x  # dz/dw = x\n",
    "dz_db = 1  # dz/db = 1 (bias contributes directly to z)\n",
    "\n",
    "dL_dw = dloss_dy_pred * dy_pred_dz * dz_dw\n",
    "dL_db = dloss_dy_pred * dy_pred_dz * dz_db"
   ],
   "id": "693c77eb01f159d4",
   "outputs": [],
   "execution_count": 64
  },
  {
   "metadata": {
    "ExecuteTime": {
     "end_time": "2024-12-04T10:15:09.781749Z",
     "start_time": "2024-12-04T10:15:09.778086Z"
    }
   },
   "cell_type": "code",
   "source": [
    "print(f\"Manual Gradient of loss w.r.t weight (dw): {dL_dw}\")\n",
    "print(f\"Manual Gradient of loss w.r.t bias (db): {dL_db}\")"
   ],
   "id": "373f9ff0a797630",
   "outputs": [
    {
     "name": "stdout",
     "output_type": "stream",
     "text": [
      "Manual Gradient of loss w.r.t weight (dw): 6.691762447357178\n",
      "Manual Gradient of loss w.r.t bias (db): 0.998770534992218\n"
     ]
    }
   ],
   "execution_count": 65
  },
  {
   "metadata": {
    "ExecuteTime": {
     "end_time": "2024-12-04T10:12:42.553515Z",
     "start_time": "2024-12-04T10:12:42.543056Z"
    }
   },
   "cell_type": "code",
   "source": [
    "# now using autograd\n",
    "\n",
    "x = torch.tensor(6.7)\n",
    "y = torch.tensor(0.0)\n",
    "\n",
    "w = torch.tensor(1.0, requires_grad=True)\n",
    "b = torch.tensor(0.0, requires_grad=True)"
   ],
   "id": "27b963055037c980",
   "outputs": [],
   "execution_count": 55
  },
  {
   "metadata": {
    "ExecuteTime": {
     "end_time": "2024-12-04T10:13:10.414006Z",
     "start_time": "2024-12-04T10:13:10.401284Z"
    }
   },
   "cell_type": "code",
   "source": [
    "# forward propagation \n",
    "\n",
    "z = w * x + b\n",
    "y_pred = torch.sigmoid(z)\n",
    "y_pred"
   ],
   "id": "1148993d6884eb0f",
   "outputs": [
    {
     "data": {
      "text/plain": [
       "tensor(0.9988, grad_fn=<SigmoidBackward0>)"
      ]
     },
     "execution_count": 56,
     "metadata": {},
     "output_type": "execute_result"
    }
   ],
   "execution_count": 56
  },
  {
   "metadata": {
    "ExecuteTime": {
     "end_time": "2024-12-04T10:13:26.295516Z",
     "start_time": "2024-12-04T10:13:26.287997Z"
    }
   },
   "cell_type": "code",
   "source": "loss = binary_cross_entropy(y_pred, y)",
   "id": "80110e8301255764",
   "outputs": [],
   "execution_count": 57
  },
  {
   "metadata": {
    "ExecuteTime": {
     "end_time": "2024-12-04T10:13:28.651919Z",
     "start_time": "2024-12-04T10:13:28.646938Z"
    }
   },
   "cell_type": "code",
   "source": "loss",
   "id": "1660a10ca4c25326",
   "outputs": [
    {
     "data": {
      "text/plain": [
       "tensor(6.7012, grad_fn=<NegBackward0>)"
      ]
     },
     "execution_count": 58,
     "metadata": {},
     "output_type": "execute_result"
    }
   ],
   "execution_count": 58
  },
  {
   "metadata": {
    "ExecuteTime": {
     "end_time": "2024-12-04T10:14:22.368195Z",
     "start_time": "2024-12-04T10:14:22.352992Z"
    }
   },
   "cell_type": "code",
   "source": "loss.backward()",
   "id": "aee4b3a61c79a6e7",
   "outputs": [],
   "execution_count": 59
  },
  {
   "metadata": {
    "ExecuteTime": {
     "end_time": "2024-12-04T10:14:34.454911Z",
     "start_time": "2024-12-04T10:14:34.441524Z"
    }
   },
   "cell_type": "code",
   "source": "w.grad, b.grad",
   "id": "5d342f945fcf12eb",
   "outputs": [
    {
     "data": {
      "text/plain": [
       "(tensor(6.6918), tensor(0.9988))"
      ]
     },
     "execution_count": 60,
     "metadata": {},
     "output_type": "execute_result"
    }
   ],
   "execution_count": 60
  },
  {
   "metadata": {
    "ExecuteTime": {
     "end_time": "2024-12-04T10:16:20.284755Z",
     "start_time": "2024-12-04T10:16:20.274144Z"
    }
   },
   "cell_type": "code",
   "source": [
    "x = torch.tensor([1., 2., 3.], requires_grad=True)\n",
    "y = (x**2).mean()"
   ],
   "id": "12af0e1a5f8f6cc8",
   "outputs": [],
   "execution_count": 67
  },
  {
   "metadata": {
    "ExecuteTime": {
     "end_time": "2024-12-04T10:16:22.541254Z",
     "start_time": "2024-12-04T10:16:22.533953Z"
    }
   },
   "cell_type": "code",
   "source": "y",
   "id": "7d010ad2d75bf739",
   "outputs": [
    {
     "data": {
      "text/plain": [
       "tensor(4.6667, grad_fn=<MeanBackward0>)"
      ]
     },
     "execution_count": 68,
     "metadata": {},
     "output_type": "execute_result"
    }
   ],
   "execution_count": 68
  },
  {
   "metadata": {
    "ExecuteTime": {
     "end_time": "2024-12-04T10:16:29.041212Z",
     "start_time": "2024-12-04T10:16:29.032763Z"
    }
   },
   "cell_type": "code",
   "source": "y.backward()",
   "id": "bf36a526e1c6183",
   "outputs": [],
   "execution_count": 69
  },
  {
   "metadata": {
    "ExecuteTime": {
     "end_time": "2024-12-04T10:16:33.447942Z",
     "start_time": "2024-12-04T10:16:33.435547Z"
    }
   },
   "cell_type": "code",
   "source": "x.grad",
   "id": "e7e736c4558084f4",
   "outputs": [
    {
     "data": {
      "text/plain": [
       "tensor([0.6667, 1.3333, 2.0000])"
      ]
     },
     "execution_count": 70,
     "metadata": {},
     "output_type": "execute_result"
    }
   ],
   "execution_count": 70
  },
  {
   "metadata": {
    "ExecuteTime": {
     "end_time": "2024-12-04T10:19:46.827491Z",
     "start_time": "2024-12-04T10:19:46.822873Z"
    }
   },
   "cell_type": "code",
   "source": [
    "# clearing grad \n",
    "\n",
    "x = torch.tensor(2., requires_grad=True)\n",
    "y = x ** 2\n"
   ],
   "id": "779a7857c203b4f1",
   "outputs": [],
   "execution_count": 79
  },
  {
   "metadata": {
    "ExecuteTime": {
     "end_time": "2024-12-04T10:19:39.892009Z",
     "start_time": "2024-12-04T10:19:39.885443Z"
    }
   },
   "cell_type": "code",
   "source": [
    "y.backward()\n",
    "x.grad"
   ],
   "id": "e2c7f67a21d5aac8",
   "outputs": [
    {
     "data": {
      "text/plain": [
       "tensor(4.)"
      ]
     },
     "execution_count": 75,
     "metadata": {},
     "output_type": "execute_result"
    }
   ],
   "execution_count": 75
  },
  {
   "metadata": {
    "ExecuteTime": {
     "end_time": "2024-12-04T10:19:48.824234Z",
     "start_time": "2024-12-04T10:19:48.818923Z"
    }
   },
   "cell_type": "code",
   "source": [
    "y.backward()\n",
    "x.grad"
   ],
   "id": "af1e4591e9a416bc",
   "outputs": [
    {
     "data": {
      "text/plain": [
       "tensor(4.)"
      ]
     },
     "execution_count": 80,
     "metadata": {},
     "output_type": "execute_result"
    }
   ],
   "execution_count": 80
  },
  {
   "metadata": {},
   "cell_type": "code",
   "outputs": [],
   "execution_count": null,
   "source": "",
   "id": "2f974d55070c0d36"
  }
 ],
 "metadata": {
  "kernelspec": {
   "display_name": "Python 3",
   "language": "python",
   "name": "python3"
  },
  "language_info": {
   "codemirror_mode": {
    "name": "ipython",
    "version": 2
   },
   "file_extension": ".py",
   "mimetype": "text/x-python",
   "name": "python",
   "nbconvert_exporter": "python",
   "pygments_lexer": "ipython2",
   "version": "2.7.6"
  }
 },
 "nbformat": 4,
 "nbformat_minor": 5
}
