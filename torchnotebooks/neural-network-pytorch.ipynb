{
 "cells": [
  {
   "cell_type": "code",
   "id": "initial_id",
   "metadata": {
    "collapsed": true,
    "ExecuteTime": {
     "end_time": "2024-12-05T11:01:32.967324Z",
     "start_time": "2024-12-05T11:01:32.964156Z"
    }
   },
   "source": [
    "import pandas as pd\n",
    "import torch\n",
    "from sklearn.model_selection import train_test_split\n",
    "from sklearn.preprocessing import StandardScaler, LabelEncoder"
   ],
   "outputs": [],
   "execution_count": 243
  },
  {
   "metadata": {
    "ExecuteTime": {
     "end_time": "2024-12-05T11:01:33.485588Z",
     "start_time": "2024-12-05T11:01:32.996563Z"
    }
   },
   "cell_type": "code",
   "source": [
    "df = pd.read_csv('https://raw.githubusercontent.com/gscdit/Breast-Cancer-Detection/refs/heads/master/data.csv')\n",
    "df.head()"
   ],
   "id": "674e0cd2723b0682",
   "outputs": [
    {
     "data": {
      "text/plain": [
       "         id diagnosis  radius_mean  texture_mean  perimeter_mean  area_mean  \\\n",
       "0    842302         M        17.99         10.38          122.80     1001.0   \n",
       "1    842517         M        20.57         17.77          132.90     1326.0   \n",
       "2  84300903         M        19.69         21.25          130.00     1203.0   \n",
       "3  84348301         M        11.42         20.38           77.58      386.1   \n",
       "4  84358402         M        20.29         14.34          135.10     1297.0   \n",
       "\n",
       "   smoothness_mean  compactness_mean  concavity_mean  concave points_mean  \\\n",
       "0          0.11840           0.27760          0.3001              0.14710   \n",
       "1          0.08474           0.07864          0.0869              0.07017   \n",
       "2          0.10960           0.15990          0.1974              0.12790   \n",
       "3          0.14250           0.28390          0.2414              0.10520   \n",
       "4          0.10030           0.13280          0.1980              0.10430   \n",
       "\n",
       "   ...  texture_worst  perimeter_worst  area_worst  smoothness_worst  \\\n",
       "0  ...          17.33           184.60      2019.0            0.1622   \n",
       "1  ...          23.41           158.80      1956.0            0.1238   \n",
       "2  ...          25.53           152.50      1709.0            0.1444   \n",
       "3  ...          26.50            98.87       567.7            0.2098   \n",
       "4  ...          16.67           152.20      1575.0            0.1374   \n",
       "\n",
       "   compactness_worst  concavity_worst  concave points_worst  symmetry_worst  \\\n",
       "0             0.6656           0.7119                0.2654          0.4601   \n",
       "1             0.1866           0.2416                0.1860          0.2750   \n",
       "2             0.4245           0.4504                0.2430          0.3613   \n",
       "3             0.8663           0.6869                0.2575          0.6638   \n",
       "4             0.2050           0.4000                0.1625          0.2364   \n",
       "\n",
       "   fractal_dimension_worst  Unnamed: 32  \n",
       "0                  0.11890          NaN  \n",
       "1                  0.08902          NaN  \n",
       "2                  0.08758          NaN  \n",
       "3                  0.17300          NaN  \n",
       "4                  0.07678          NaN  \n",
       "\n",
       "[5 rows x 33 columns]"
      ],
      "text/html": [
       "<div>\n",
       "<style scoped>\n",
       "    .dataframe tbody tr th:only-of-type {\n",
       "        vertical-align: middle;\n",
       "    }\n",
       "\n",
       "    .dataframe tbody tr th {\n",
       "        vertical-align: top;\n",
       "    }\n",
       "\n",
       "    .dataframe thead th {\n",
       "        text-align: right;\n",
       "    }\n",
       "</style>\n",
       "<table border=\"1\" class=\"dataframe\">\n",
       "  <thead>\n",
       "    <tr style=\"text-align: right;\">\n",
       "      <th></th>\n",
       "      <th>id</th>\n",
       "      <th>diagnosis</th>\n",
       "      <th>radius_mean</th>\n",
       "      <th>texture_mean</th>\n",
       "      <th>perimeter_mean</th>\n",
       "      <th>area_mean</th>\n",
       "      <th>smoothness_mean</th>\n",
       "      <th>compactness_mean</th>\n",
       "      <th>concavity_mean</th>\n",
       "      <th>concave points_mean</th>\n",
       "      <th>...</th>\n",
       "      <th>texture_worst</th>\n",
       "      <th>perimeter_worst</th>\n",
       "      <th>area_worst</th>\n",
       "      <th>smoothness_worst</th>\n",
       "      <th>compactness_worst</th>\n",
       "      <th>concavity_worst</th>\n",
       "      <th>concave points_worst</th>\n",
       "      <th>symmetry_worst</th>\n",
       "      <th>fractal_dimension_worst</th>\n",
       "      <th>Unnamed: 32</th>\n",
       "    </tr>\n",
       "  </thead>\n",
       "  <tbody>\n",
       "    <tr>\n",
       "      <th>0</th>\n",
       "      <td>842302</td>\n",
       "      <td>M</td>\n",
       "      <td>17.99</td>\n",
       "      <td>10.38</td>\n",
       "      <td>122.80</td>\n",
       "      <td>1001.0</td>\n",
       "      <td>0.11840</td>\n",
       "      <td>0.27760</td>\n",
       "      <td>0.3001</td>\n",
       "      <td>0.14710</td>\n",
       "      <td>...</td>\n",
       "      <td>17.33</td>\n",
       "      <td>184.60</td>\n",
       "      <td>2019.0</td>\n",
       "      <td>0.1622</td>\n",
       "      <td>0.6656</td>\n",
       "      <td>0.7119</td>\n",
       "      <td>0.2654</td>\n",
       "      <td>0.4601</td>\n",
       "      <td>0.11890</td>\n",
       "      <td>NaN</td>\n",
       "    </tr>\n",
       "    <tr>\n",
       "      <th>1</th>\n",
       "      <td>842517</td>\n",
       "      <td>M</td>\n",
       "      <td>20.57</td>\n",
       "      <td>17.77</td>\n",
       "      <td>132.90</td>\n",
       "      <td>1326.0</td>\n",
       "      <td>0.08474</td>\n",
       "      <td>0.07864</td>\n",
       "      <td>0.0869</td>\n",
       "      <td>0.07017</td>\n",
       "      <td>...</td>\n",
       "      <td>23.41</td>\n",
       "      <td>158.80</td>\n",
       "      <td>1956.0</td>\n",
       "      <td>0.1238</td>\n",
       "      <td>0.1866</td>\n",
       "      <td>0.2416</td>\n",
       "      <td>0.1860</td>\n",
       "      <td>0.2750</td>\n",
       "      <td>0.08902</td>\n",
       "      <td>NaN</td>\n",
       "    </tr>\n",
       "    <tr>\n",
       "      <th>2</th>\n",
       "      <td>84300903</td>\n",
       "      <td>M</td>\n",
       "      <td>19.69</td>\n",
       "      <td>21.25</td>\n",
       "      <td>130.00</td>\n",
       "      <td>1203.0</td>\n",
       "      <td>0.10960</td>\n",
       "      <td>0.15990</td>\n",
       "      <td>0.1974</td>\n",
       "      <td>0.12790</td>\n",
       "      <td>...</td>\n",
       "      <td>25.53</td>\n",
       "      <td>152.50</td>\n",
       "      <td>1709.0</td>\n",
       "      <td>0.1444</td>\n",
       "      <td>0.4245</td>\n",
       "      <td>0.4504</td>\n",
       "      <td>0.2430</td>\n",
       "      <td>0.3613</td>\n",
       "      <td>0.08758</td>\n",
       "      <td>NaN</td>\n",
       "    </tr>\n",
       "    <tr>\n",
       "      <th>3</th>\n",
       "      <td>84348301</td>\n",
       "      <td>M</td>\n",
       "      <td>11.42</td>\n",
       "      <td>20.38</td>\n",
       "      <td>77.58</td>\n",
       "      <td>386.1</td>\n",
       "      <td>0.14250</td>\n",
       "      <td>0.28390</td>\n",
       "      <td>0.2414</td>\n",
       "      <td>0.10520</td>\n",
       "      <td>...</td>\n",
       "      <td>26.50</td>\n",
       "      <td>98.87</td>\n",
       "      <td>567.7</td>\n",
       "      <td>0.2098</td>\n",
       "      <td>0.8663</td>\n",
       "      <td>0.6869</td>\n",
       "      <td>0.2575</td>\n",
       "      <td>0.6638</td>\n",
       "      <td>0.17300</td>\n",
       "      <td>NaN</td>\n",
       "    </tr>\n",
       "    <tr>\n",
       "      <th>4</th>\n",
       "      <td>84358402</td>\n",
       "      <td>M</td>\n",
       "      <td>20.29</td>\n",
       "      <td>14.34</td>\n",
       "      <td>135.10</td>\n",
       "      <td>1297.0</td>\n",
       "      <td>0.10030</td>\n",
       "      <td>0.13280</td>\n",
       "      <td>0.1980</td>\n",
       "      <td>0.10430</td>\n",
       "      <td>...</td>\n",
       "      <td>16.67</td>\n",
       "      <td>152.20</td>\n",
       "      <td>1575.0</td>\n",
       "      <td>0.1374</td>\n",
       "      <td>0.2050</td>\n",
       "      <td>0.4000</td>\n",
       "      <td>0.1625</td>\n",
       "      <td>0.2364</td>\n",
       "      <td>0.07678</td>\n",
       "      <td>NaN</td>\n",
       "    </tr>\n",
       "  </tbody>\n",
       "</table>\n",
       "<p>5 rows × 33 columns</p>\n",
       "</div>"
      ]
     },
     "execution_count": 244,
     "metadata": {},
     "output_type": "execute_result"
    }
   ],
   "execution_count": 244
  },
  {
   "metadata": {
    "ExecuteTime": {
     "end_time": "2024-12-05T11:01:33.533677Z",
     "start_time": "2024-12-05T11:01:33.522692Z"
    }
   },
   "cell_type": "code",
   "source": "sum(df.duplicated())",
   "id": "dabd709555e63b7e",
   "outputs": [
    {
     "data": {
      "text/plain": [
       "0"
      ]
     },
     "execution_count": 245,
     "metadata": {},
     "output_type": "execute_result"
    }
   ],
   "execution_count": 245
  },
  {
   "metadata": {
    "ExecuteTime": {
     "end_time": "2024-12-05T11:01:33.603044Z",
     "start_time": "2024-12-05T11:01:33.596673Z"
    }
   },
   "cell_type": "code",
   "source": "df.isna().sum()",
   "id": "4a0b77b9e2a58b",
   "outputs": [
    {
     "data": {
      "text/plain": [
       "id                           0\n",
       "diagnosis                    0\n",
       "radius_mean                  0\n",
       "texture_mean                 0\n",
       "perimeter_mean               0\n",
       "area_mean                    0\n",
       "smoothness_mean              0\n",
       "compactness_mean             0\n",
       "concavity_mean               0\n",
       "concave points_mean          0\n",
       "symmetry_mean                0\n",
       "fractal_dimension_mean       0\n",
       "radius_se                    0\n",
       "texture_se                   0\n",
       "perimeter_se                 0\n",
       "area_se                      0\n",
       "smoothness_se                0\n",
       "compactness_se               0\n",
       "concavity_se                 0\n",
       "concave points_se            0\n",
       "symmetry_se                  0\n",
       "fractal_dimension_se         0\n",
       "radius_worst                 0\n",
       "texture_worst                0\n",
       "perimeter_worst              0\n",
       "area_worst                   0\n",
       "smoothness_worst             0\n",
       "compactness_worst            0\n",
       "concavity_worst              0\n",
       "concave points_worst         0\n",
       "symmetry_worst               0\n",
       "fractal_dimension_worst      0\n",
       "Unnamed: 32                569\n",
       "dtype: int64"
      ]
     },
     "execution_count": 246,
     "metadata": {},
     "output_type": "execute_result"
    }
   ],
   "execution_count": 246
  },
  {
   "metadata": {
    "ExecuteTime": {
     "end_time": "2024-12-05T11:01:33.650363Z",
     "start_time": "2024-12-05T11:01:33.648043Z"
    }
   },
   "cell_type": "code",
   "source": "df.shape",
   "id": "464b087e4e22df28",
   "outputs": [
    {
     "data": {
      "text/plain": [
       "(569, 33)"
      ]
     },
     "execution_count": 247,
     "metadata": {},
     "output_type": "execute_result"
    }
   ],
   "execution_count": 247
  },
  {
   "metadata": {
    "ExecuteTime": {
     "end_time": "2024-12-05T11:01:33.706905Z",
     "start_time": "2024-12-05T11:01:33.702703Z"
    }
   },
   "cell_type": "code",
   "source": "df.columns",
   "id": "1408ea97de161d53",
   "outputs": [
    {
     "data": {
      "text/plain": [
       "Index(['id', 'diagnosis', 'radius_mean', 'texture_mean', 'perimeter_mean',\n",
       "       'area_mean', 'smoothness_mean', 'compactness_mean', 'concavity_mean',\n",
       "       'concave points_mean', 'symmetry_mean', 'fractal_dimension_mean',\n",
       "       'radius_se', 'texture_se', 'perimeter_se', 'area_se', 'smoothness_se',\n",
       "       'compactness_se', 'concavity_se', 'concave points_se', 'symmetry_se',\n",
       "       'fractal_dimension_se', 'radius_worst', 'texture_worst',\n",
       "       'perimeter_worst', 'area_worst', 'smoothness_worst',\n",
       "       'compactness_worst', 'concavity_worst', 'concave points_worst',\n",
       "       'symmetry_worst', 'fractal_dimension_worst', 'Unnamed: 32'],\n",
       "      dtype='object')"
      ]
     },
     "execution_count": 248,
     "metadata": {},
     "output_type": "execute_result"
    }
   ],
   "execution_count": 248
  },
  {
   "metadata": {
    "ExecuteTime": {
     "end_time": "2024-12-05T11:01:33.754265Z",
     "start_time": "2024-12-05T11:01:33.752100Z"
    }
   },
   "cell_type": "code",
   "source": "df.drop(['id', 'Unnamed: 32'], axis=1, inplace=True)",
   "id": "fc7139f9fb8e4c49",
   "outputs": [],
   "execution_count": 249
  },
  {
   "metadata": {
    "ExecuteTime": {
     "end_time": "2024-12-05T11:01:33.798446Z",
     "start_time": "2024-12-05T11:01:33.788876Z"
    }
   },
   "cell_type": "code",
   "source": "df.head()",
   "id": "34c9ab63391c27d5",
   "outputs": [
    {
     "data": {
      "text/plain": [
       "  diagnosis  radius_mean  texture_mean  perimeter_mean  area_mean  \\\n",
       "0         M        17.99         10.38          122.80     1001.0   \n",
       "1         M        20.57         17.77          132.90     1326.0   \n",
       "2         M        19.69         21.25          130.00     1203.0   \n",
       "3         M        11.42         20.38           77.58      386.1   \n",
       "4         M        20.29         14.34          135.10     1297.0   \n",
       "\n",
       "   smoothness_mean  compactness_mean  concavity_mean  concave points_mean  \\\n",
       "0          0.11840           0.27760          0.3001              0.14710   \n",
       "1          0.08474           0.07864          0.0869              0.07017   \n",
       "2          0.10960           0.15990          0.1974              0.12790   \n",
       "3          0.14250           0.28390          0.2414              0.10520   \n",
       "4          0.10030           0.13280          0.1980              0.10430   \n",
       "\n",
       "   symmetry_mean  ...  radius_worst  texture_worst  perimeter_worst  \\\n",
       "0         0.2419  ...         25.38          17.33           184.60   \n",
       "1         0.1812  ...         24.99          23.41           158.80   \n",
       "2         0.2069  ...         23.57          25.53           152.50   \n",
       "3         0.2597  ...         14.91          26.50            98.87   \n",
       "4         0.1809  ...         22.54          16.67           152.20   \n",
       "\n",
       "   area_worst  smoothness_worst  compactness_worst  concavity_worst  \\\n",
       "0      2019.0            0.1622             0.6656           0.7119   \n",
       "1      1956.0            0.1238             0.1866           0.2416   \n",
       "2      1709.0            0.1444             0.4245           0.4504   \n",
       "3       567.7            0.2098             0.8663           0.6869   \n",
       "4      1575.0            0.1374             0.2050           0.4000   \n",
       "\n",
       "   concave points_worst  symmetry_worst  fractal_dimension_worst  \n",
       "0                0.2654          0.4601                  0.11890  \n",
       "1                0.1860          0.2750                  0.08902  \n",
       "2                0.2430          0.3613                  0.08758  \n",
       "3                0.2575          0.6638                  0.17300  \n",
       "4                0.1625          0.2364                  0.07678  \n",
       "\n",
       "[5 rows x 31 columns]"
      ],
      "text/html": [
       "<div>\n",
       "<style scoped>\n",
       "    .dataframe tbody tr th:only-of-type {\n",
       "        vertical-align: middle;\n",
       "    }\n",
       "\n",
       "    .dataframe tbody tr th {\n",
       "        vertical-align: top;\n",
       "    }\n",
       "\n",
       "    .dataframe thead th {\n",
       "        text-align: right;\n",
       "    }\n",
       "</style>\n",
       "<table border=\"1\" class=\"dataframe\">\n",
       "  <thead>\n",
       "    <tr style=\"text-align: right;\">\n",
       "      <th></th>\n",
       "      <th>diagnosis</th>\n",
       "      <th>radius_mean</th>\n",
       "      <th>texture_mean</th>\n",
       "      <th>perimeter_mean</th>\n",
       "      <th>area_mean</th>\n",
       "      <th>smoothness_mean</th>\n",
       "      <th>compactness_mean</th>\n",
       "      <th>concavity_mean</th>\n",
       "      <th>concave points_mean</th>\n",
       "      <th>symmetry_mean</th>\n",
       "      <th>...</th>\n",
       "      <th>radius_worst</th>\n",
       "      <th>texture_worst</th>\n",
       "      <th>perimeter_worst</th>\n",
       "      <th>area_worst</th>\n",
       "      <th>smoothness_worst</th>\n",
       "      <th>compactness_worst</th>\n",
       "      <th>concavity_worst</th>\n",
       "      <th>concave points_worst</th>\n",
       "      <th>symmetry_worst</th>\n",
       "      <th>fractal_dimension_worst</th>\n",
       "    </tr>\n",
       "  </thead>\n",
       "  <tbody>\n",
       "    <tr>\n",
       "      <th>0</th>\n",
       "      <td>M</td>\n",
       "      <td>17.99</td>\n",
       "      <td>10.38</td>\n",
       "      <td>122.80</td>\n",
       "      <td>1001.0</td>\n",
       "      <td>0.11840</td>\n",
       "      <td>0.27760</td>\n",
       "      <td>0.3001</td>\n",
       "      <td>0.14710</td>\n",
       "      <td>0.2419</td>\n",
       "      <td>...</td>\n",
       "      <td>25.38</td>\n",
       "      <td>17.33</td>\n",
       "      <td>184.60</td>\n",
       "      <td>2019.0</td>\n",
       "      <td>0.1622</td>\n",
       "      <td>0.6656</td>\n",
       "      <td>0.7119</td>\n",
       "      <td>0.2654</td>\n",
       "      <td>0.4601</td>\n",
       "      <td>0.11890</td>\n",
       "    </tr>\n",
       "    <tr>\n",
       "      <th>1</th>\n",
       "      <td>M</td>\n",
       "      <td>20.57</td>\n",
       "      <td>17.77</td>\n",
       "      <td>132.90</td>\n",
       "      <td>1326.0</td>\n",
       "      <td>0.08474</td>\n",
       "      <td>0.07864</td>\n",
       "      <td>0.0869</td>\n",
       "      <td>0.07017</td>\n",
       "      <td>0.1812</td>\n",
       "      <td>...</td>\n",
       "      <td>24.99</td>\n",
       "      <td>23.41</td>\n",
       "      <td>158.80</td>\n",
       "      <td>1956.0</td>\n",
       "      <td>0.1238</td>\n",
       "      <td>0.1866</td>\n",
       "      <td>0.2416</td>\n",
       "      <td>0.1860</td>\n",
       "      <td>0.2750</td>\n",
       "      <td>0.08902</td>\n",
       "    </tr>\n",
       "    <tr>\n",
       "      <th>2</th>\n",
       "      <td>M</td>\n",
       "      <td>19.69</td>\n",
       "      <td>21.25</td>\n",
       "      <td>130.00</td>\n",
       "      <td>1203.0</td>\n",
       "      <td>0.10960</td>\n",
       "      <td>0.15990</td>\n",
       "      <td>0.1974</td>\n",
       "      <td>0.12790</td>\n",
       "      <td>0.2069</td>\n",
       "      <td>...</td>\n",
       "      <td>23.57</td>\n",
       "      <td>25.53</td>\n",
       "      <td>152.50</td>\n",
       "      <td>1709.0</td>\n",
       "      <td>0.1444</td>\n",
       "      <td>0.4245</td>\n",
       "      <td>0.4504</td>\n",
       "      <td>0.2430</td>\n",
       "      <td>0.3613</td>\n",
       "      <td>0.08758</td>\n",
       "    </tr>\n",
       "    <tr>\n",
       "      <th>3</th>\n",
       "      <td>M</td>\n",
       "      <td>11.42</td>\n",
       "      <td>20.38</td>\n",
       "      <td>77.58</td>\n",
       "      <td>386.1</td>\n",
       "      <td>0.14250</td>\n",
       "      <td>0.28390</td>\n",
       "      <td>0.2414</td>\n",
       "      <td>0.10520</td>\n",
       "      <td>0.2597</td>\n",
       "      <td>...</td>\n",
       "      <td>14.91</td>\n",
       "      <td>26.50</td>\n",
       "      <td>98.87</td>\n",
       "      <td>567.7</td>\n",
       "      <td>0.2098</td>\n",
       "      <td>0.8663</td>\n",
       "      <td>0.6869</td>\n",
       "      <td>0.2575</td>\n",
       "      <td>0.6638</td>\n",
       "      <td>0.17300</td>\n",
       "    </tr>\n",
       "    <tr>\n",
       "      <th>4</th>\n",
       "      <td>M</td>\n",
       "      <td>20.29</td>\n",
       "      <td>14.34</td>\n",
       "      <td>135.10</td>\n",
       "      <td>1297.0</td>\n",
       "      <td>0.10030</td>\n",
       "      <td>0.13280</td>\n",
       "      <td>0.1980</td>\n",
       "      <td>0.10430</td>\n",
       "      <td>0.1809</td>\n",
       "      <td>...</td>\n",
       "      <td>22.54</td>\n",
       "      <td>16.67</td>\n",
       "      <td>152.20</td>\n",
       "      <td>1575.0</td>\n",
       "      <td>0.1374</td>\n",
       "      <td>0.2050</td>\n",
       "      <td>0.4000</td>\n",
       "      <td>0.1625</td>\n",
       "      <td>0.2364</td>\n",
       "      <td>0.07678</td>\n",
       "    </tr>\n",
       "  </tbody>\n",
       "</table>\n",
       "<p>5 rows × 31 columns</p>\n",
       "</div>"
      ]
     },
     "execution_count": 250,
     "metadata": {},
     "output_type": "execute_result"
    }
   ],
   "execution_count": 250
  },
  {
   "metadata": {
    "ExecuteTime": {
     "end_time": "2024-12-05T11:01:33.837019Z",
     "start_time": "2024-12-05T11:01:33.831638Z"
    }
   },
   "cell_type": "code",
   "source": "X_train, X_test, y_train, y_test = train_test_split(df.iloc[:, 1:], df.iloc[:, 0], test_size=0.2, random_state=0)",
   "id": "1e8f80575122f319",
   "outputs": [],
   "execution_count": 251
  },
  {
   "metadata": {
    "ExecuteTime": {
     "end_time": "2024-12-05T11:01:33.870406Z",
     "start_time": "2024-12-05T11:01:33.865907Z"
    }
   },
   "cell_type": "code",
   "source": "X_train.shape, y_train.shape, X_test.shape, y_test.shape",
   "id": "bb1fe62d93ef235c",
   "outputs": [
    {
     "data": {
      "text/plain": [
       "((455, 30), (455,), (114, 30), (114,))"
      ]
     },
     "execution_count": 252,
     "metadata": {},
     "output_type": "execute_result"
    }
   ],
   "execution_count": 252
  },
  {
   "metadata": {
    "ExecuteTime": {
     "end_time": "2024-12-05T11:01:33.941020Z",
     "start_time": "2024-12-05T11:01:33.935848Z"
    }
   },
   "cell_type": "code",
   "source": [
    "scaler = StandardScaler()\n",
    "X_train = scaler.fit_transform(X_train)\n",
    "X_test = scaler.transform(X_test)"
   ],
   "id": "689fdf0ea7ff1f5",
   "outputs": [],
   "execution_count": 253
  },
  {
   "metadata": {
    "ExecuteTime": {
     "end_time": "2024-12-05T11:01:33.979776Z",
     "start_time": "2024-12-05T11:01:33.975767Z"
    }
   },
   "cell_type": "code",
   "source": "y_train ",
   "id": "ec00fa1075302f78",
   "outputs": [
    {
     "data": {
      "text/plain": [
       "338    B\n",
       "427    B\n",
       "406    B\n",
       "96     B\n",
       "490    B\n",
       "      ..\n",
       "277    M\n",
       "9      M\n",
       "359    B\n",
       "192    B\n",
       "559    B\n",
       "Name: diagnosis, Length: 455, dtype: object"
      ]
     },
     "execution_count": 254,
     "metadata": {},
     "output_type": "execute_result"
    }
   ],
   "execution_count": 254
  },
  {
   "metadata": {
    "ExecuteTime": {
     "end_time": "2024-12-05T11:01:34.016586Z",
     "start_time": "2024-12-05T11:01:34.013550Z"
    }
   },
   "cell_type": "code",
   "source": [
    "encoder = LabelEncoder()\n",
    "y_train = encoder.fit_transform(y_train)\n",
    "y_test = encoder.transform(y_test)"
   ],
   "id": "7e13ad942cd03472",
   "outputs": [],
   "execution_count": 255
  },
  {
   "metadata": {
    "ExecuteTime": {
     "end_time": "2024-12-05T11:01:34.065753Z",
     "start_time": "2024-12-05T11:01:34.062698Z"
    }
   },
   "cell_type": "code",
   "source": "y_train ",
   "id": "99ab564ac2f28b8c",
   "outputs": [
    {
     "data": {
      "text/plain": [
       "array([0, 0, 0, 0, 0, 0, 0, 0, 1, 0, 1, 0, 0, 0, 0, 0, 1, 0, 0, 0, 0, 0,\n",
       "       0, 1, 1, 0, 0, 0, 1, 0, 0, 1, 0, 1, 0, 0, 0, 0, 0, 0, 0, 1, 0, 1,\n",
       "       0, 1, 1, 0, 0, 1, 0, 1, 1, 1, 0, 0, 0, 0, 0, 0, 1, 0, 0, 0, 0, 1,\n",
       "       1, 0, 0, 1, 0, 0, 0, 0, 1, 0, 0, 1, 1, 0, 0, 1, 1, 0, 0, 1, 0, 0,\n",
       "       1, 1, 1, 0, 0, 0, 1, 0, 0, 0, 0, 0, 1, 0, 1, 0, 1, 0, 1, 0, 1, 0,\n",
       "       0, 0, 0, 1, 0, 1, 0, 0, 0, 1, 0, 0, 0, 1, 0, 0, 1, 1, 0, 1, 0, 1,\n",
       "       0, 1, 1, 1, 1, 0, 1, 0, 1, 0, 1, 0, 1, 0, 0, 1, 0, 0, 0, 0, 0, 0,\n",
       "       0, 0, 0, 0, 0, 0, 0, 1, 0, 0, 0, 1, 0, 0, 0, 0, 0, 0, 1, 0, 1, 0,\n",
       "       0, 1, 0, 1, 1, 0, 1, 1, 0, 0, 1, 0, 0, 0, 1, 0, 0, 0, 0, 0, 1, 1,\n",
       "       0, 0, 0, 0, 1, 1, 0, 0, 0, 0, 1, 0, 0, 1, 0, 0, 1, 0, 1, 0, 0, 0,\n",
       "       0, 1, 1, 1, 1, 0, 1, 0, 1, 1, 0, 0, 0, 0, 0, 1, 0, 0, 1, 0, 0, 1,\n",
       "       1, 0, 0, 0, 1, 1, 0, 0, 1, 0, 0, 0, 1, 0, 1, 0, 1, 1, 1, 1, 0, 0,\n",
       "       0, 0, 1, 1, 0, 0, 0, 0, 0, 1, 0, 0, 1, 0, 0, 1, 1, 1, 1, 0, 0, 1,\n",
       "       0, 0, 0, 1, 1, 0, 0, 0, 0, 0, 1, 1, 1, 0, 1, 1, 0, 0, 0, 0, 0, 0,\n",
       "       1, 0, 0, 0, 0, 0, 0, 1, 1, 0, 1, 0, 1, 1, 0, 0, 0, 0, 0, 1, 1, 1,\n",
       "       0, 0, 1, 1, 0, 0, 1, 0, 1, 1, 0, 1, 0, 0, 0, 0, 0, 0, 0, 1, 1, 0,\n",
       "       0, 0, 1, 0, 0, 0, 0, 1, 0, 1, 1, 1, 0, 1, 0, 1, 0, 1, 1, 0, 0, 0,\n",
       "       0, 0, 0, 0, 0, 1, 1, 1, 1, 1, 0, 0, 0, 0, 0, 0, 0, 1, 0, 1, 0, 0,\n",
       "       0, 0, 0, 1, 1, 1, 0, 1, 0, 0, 1, 1, 1, 1, 0, 1, 1, 1, 0, 1, 0, 1,\n",
       "       0, 0, 1, 1, 0, 1, 0, 0, 0, 0, 1, 0, 0, 1, 0, 0, 0, 1, 1, 0, 0, 0,\n",
       "       1, 0, 0, 1, 0, 0, 0, 0, 0, 1, 1, 1, 0, 0, 0])"
      ]
     },
     "execution_count": 256,
     "metadata": {},
     "output_type": "execute_result"
    }
   ],
   "execution_count": 256
  },
  {
   "metadata": {
    "ExecuteTime": {
     "end_time": "2024-12-05T11:01:34.088612Z",
     "start_time": "2024-12-05T11:01:34.084983Z"
    }
   },
   "cell_type": "code",
   "source": [
    "## transform the numpy arrays to tensor \n",
    "\n",
    "X_train_tensor = torch.from_numpy(X_train)\n",
    "y_train_tensor = torch.from_numpy(y_train)\n",
    "X_test_tensor = torch.from_numpy(X_test)\n",
    "y_test_tensor = torch.from_numpy(y_test)"
   ],
   "id": "8e7852abdae5958a",
   "outputs": [],
   "execution_count": 257
  },
  {
   "metadata": {
    "ExecuteTime": {
     "end_time": "2024-12-05T11:01:34.119040Z",
     "start_time": "2024-12-05T11:01:34.116741Z"
    }
   },
   "cell_type": "code",
   "source": "X_train_tensor.shape, y_train_tensor.shape, X_test_tensor.shape, y_test_tensor.shape",
   "id": "6f1e6acfc76f9849",
   "outputs": [
    {
     "data": {
      "text/plain": [
       "(torch.Size([455, 30]),\n",
       " torch.Size([455]),\n",
       " torch.Size([114, 30]),\n",
       " torch.Size([114]))"
      ]
     },
     "execution_count": 258,
     "metadata": {},
     "output_type": "execute_result"
    }
   ],
   "execution_count": 258
  },
  {
   "metadata": {
    "ExecuteTime": {
     "end_time": "2024-12-05T11:01:34.136796Z",
     "start_time": "2024-12-05T11:01:34.133583Z"
    }
   },
   "cell_type": "code",
   "source": [
    "## Model Building \n",
    "\n",
    "class BreastCancerModel:\n",
    "    \n",
    "    def __init__(self, X):\n",
    "        self.weights = torch.rand(X.shape[1], 1, dtype=torch.float64, requires_grad=True) # 30 * 1\n",
    "        self.bias = torch.zeros(1, dtype=torch.float64, requires_grad=True)\n",
    "        \n",
    "    def forward(self, X):\n",
    "        z = torch.matmul(X, self.weights) + self.bias\n",
    "        y_hat = torch.sigmoid(z)\n",
    "        return y_hat\n",
    "    \n",
    "    def loss_function(self, y_hat, y):\n",
    "        epsilon = 1e-7\n",
    "        y_hat = torch.clamp(y_hat, epsilon, 1 - epsilon)\n",
    "        bce_loss = -(y * torch.log(y_hat) + (1 - y) * torch.log(1 - y_hat)).mean()\n",
    "        return bce_loss"
   ],
   "id": "78cbacc0771d8627",
   "outputs": [],
   "execution_count": 259
  },
  {
   "metadata": {
    "ExecuteTime": {
     "end_time": "2024-12-05T11:01:34.152881Z",
     "start_time": "2024-12-05T11:01:34.151001Z"
    }
   },
   "cell_type": "code",
   "source": [
    "## Parameters \n",
    "\n",
    "lr = 0.1\n",
    "epochs = 100"
   ],
   "id": "88805f1a8ea7924e",
   "outputs": [],
   "execution_count": 260
  },
  {
   "metadata": {
    "ExecuteTime": {
     "end_time": "2024-12-05T11:01:34.271604Z",
     "start_time": "2024-12-05T11:01:34.166967Z"
    }
   },
   "cell_type": "code",
   "source": [
    "## Training Pipeline \n",
    "\n",
    "model = BreastCancerModel(X_train_tensor)\n",
    "\n",
    "for epoch in range(epochs):\n",
    "    # forward pass  \n",
    "    y_pred = model.forward(X_train_tensor)\n",
    "    # print(y_pred)\n",
    "    # loss calculate\n",
    "    loss = model.loss_function(y_pred, y_train_tensor)\n",
    "    # backward pass\n",
    "    loss.backward()\n",
    "    # parameters update\n",
    "    with torch.no_grad():\n",
    "        model.weights -= lr * model.weights.grad\n",
    "        model.bias -= lr * model.bias.grad\n",
    "    # zero gradient \n",
    "    model.weights.grad.zero_()\n",
    "    model.bias.grad.zero_()\n",
    "    # Print loss in each epoch \n",
    "    print(f\"Epoch: {epoch + 1}, Loss: {loss.item()}\")"
   ],
   "id": "52878f2b49f09f93",
   "outputs": [
    {
     "name": "stdout",
     "output_type": "stream",
     "text": [
      "Epoch: 1, Loss: 3.889768409220055\n",
      "Epoch: 2, Loss: 3.7826844930033756\n",
      "Epoch: 3, Loss: 3.6724781030640217\n",
      "Epoch: 4, Loss: 3.5603863983643422\n",
      "Epoch: 5, Loss: 3.445394639029251\n",
      "Epoch: 6, Loss: 3.323986962235086\n",
      "Epoch: 7, Loss: 3.194336863855367\n",
      "Epoch: 8, Loss: 3.0614530130929696\n",
      "Epoch: 9, Loss: 2.9262952134788667\n",
      "Epoch: 10, Loss: 2.7826944141989878\n",
      "Epoch: 11, Loss: 2.635859302845917\n",
      "Epoch: 12, Loss: 2.482036434001178\n",
      "Epoch: 13, Loss: 2.322535360526163\n",
      "Epoch: 14, Loss: 2.1580512474882547\n",
      "Epoch: 15, Loss: 1.9982557825661202\n",
      "Epoch: 16, Loss: 1.841157956344946\n",
      "Epoch: 17, Loss: 1.6896237070843978\n",
      "Epoch: 18, Loss: 1.5392143991475011\n",
      "Epoch: 19, Loss: 1.3928001033212527\n",
      "Epoch: 20, Loss: 1.2601216648980003\n",
      "Epoch: 21, Loss: 1.1433456484735953\n",
      "Epoch: 22, Loss: 1.0441592619336502\n",
      "Epoch: 23, Loss: 0.9632993308436077\n",
      "Epoch: 24, Loss: 0.9001881943692343\n",
      "Epoch: 25, Loss: 0.8528765572727383\n",
      "Epoch: 26, Loss: 0.818415445338202\n",
      "Epoch: 27, Loss: 0.7935514735106439\n",
      "Epoch: 28, Loss: 0.7753919389328632\n",
      "Epoch: 29, Loss: 0.7617366207675054\n",
      "Epoch: 30, Loss: 0.7510766250556399\n",
      "Epoch: 31, Loss: 0.7424372657252029\n",
      "Epoch: 32, Loss: 0.7352059684737638\n",
      "Epoch: 33, Loss: 0.7289992705363868\n",
      "Epoch: 34, Loss: 0.7235736454010722\n",
      "Epoch: 35, Loss: 0.7187697008169895\n",
      "Epoch: 36, Loss: 0.7144785251821774\n",
      "Epoch: 37, Loss: 0.7106218179114113\n",
      "Epoch: 38, Loss: 0.7071402970771925\n",
      "Epoch: 39, Loss: 0.7039869631356962\n",
      "Epoch: 40, Loss: 0.7011231641763749\n",
      "Epoch: 41, Loss: 0.6985162579268148\n",
      "Epoch: 42, Loss: 0.6961381772243611\n",
      "Epoch: 43, Loss: 0.6939645062749302\n",
      "Epoch: 44, Loss: 0.6919738483289155\n",
      "Epoch: 45, Loss: 0.6901473636453058\n",
      "Epoch: 46, Loss: 0.6884684114005739\n",
      "Epoch: 47, Loss: 0.686922259233093\n",
      "Epoch: 48, Loss: 0.6854958402802572\n",
      "Epoch: 49, Loss: 0.6841775461078952\n",
      "Epoch: 50, Loss: 0.6829570483793299\n",
      "Epoch: 51, Loss: 0.6818251444226755\n",
      "Epoch: 52, Loss: 0.6807736230892775\n",
      "Epoch: 53, Loss: 0.6797951480079034\n",
      "Epoch: 54, Loss: 0.6788831558054926\n",
      "Epoch: 55, Loss: 0.67803176721625\n",
      "Epoch: 56, Loss: 0.6772357092928853\n",
      "Epoch: 57, Loss: 0.6764902471883553\n",
      "Epoch: 58, Loss: 0.6757911242005131\n",
      "Epoch: 59, Loss: 0.6751345089676564\n",
      "Epoch: 60, Loss: 0.6745169488712531\n",
      "Epoch: 61, Loss: 0.6739353288449361\n",
      "Epoch: 62, Loss: 0.6733868349085961\n",
      "Epoch: 63, Loss: 0.6728689218460548\n",
      "Epoch: 64, Loss: 0.6723792845273926\n",
      "Epoch: 65, Loss: 0.6719158324454501\n",
      "Epoch: 66, Loss: 0.6714766670929491\n",
      "Epoch: 67, Loss: 0.6710600618542958\n",
      "Epoch: 68, Loss: 0.6706644441262851\n",
      "Epoch: 69, Loss: 0.670288379416093\n",
      "Epoch: 70, Loss: 0.6699305571942964\n",
      "Epoch: 71, Loss: 0.6695897783060795\n",
      "Epoch: 72, Loss: 0.6692649437659959\n",
      "Epoch: 73, Loss: 0.6689550447811715\n",
      "Epoch: 74, Loss: 0.668659153865085\n",
      "Epoch: 75, Loss: 0.6683764169193599\n",
      "Epoch: 76, Loss: 0.6681060461746168\n",
      "Epoch: 77, Loss: 0.667847313893566\n",
      "Epoch: 78, Loss: 0.6675995467503301\n",
      "Epoch: 79, Loss: 0.6673621208096504\n",
      "Epoch: 80, Loss: 0.6671344570382266\n",
      "Epoch: 81, Loss: 0.6669160172881206\n",
      "Epoch: 82, Loss: 0.6667063006989883\n",
      "Epoch: 83, Loss: 0.6665048404719867\n",
      "Epoch: 84, Loss: 0.6663112009736063\n",
      "Epoch: 85, Loss: 0.6661249751324896\n",
      "Epoch: 86, Loss: 0.6659457820965488\n",
      "Epoch: 87, Loss: 0.6657732651214817\n",
      "Epoch: 88, Loss: 0.665607089665116\n",
      "Epoch: 89, Loss: 0.6654469416649857\n",
      "Epoch: 90, Loss: 0.6652925259791482\n",
      "Epoch: 91, Loss: 0.6651435649725713\n",
      "Epoch: 92, Loss: 0.6649997972334525\n",
      "Epoch: 93, Loss: 0.6648609764056417\n",
      "Epoch: 94, Loss: 0.6647268701249257\n",
      "Epoch: 95, Loss: 0.6645972590483333\n",
      "Epoch: 96, Loss: 0.6644719359668637\n",
      "Epoch: 97, Loss: 0.6643507049931198\n",
      "Epoch: 98, Loss: 0.6642333808163025\n",
      "Epoch: 99, Loss: 0.664119788017862\n",
      "Epoch: 100, Loss: 0.6640097604418521\n"
     ]
    }
   ],
   "execution_count": 261
  },
  {
   "metadata": {
    "ExecuteTime": {
     "end_time": "2024-12-05T11:01:34.305606Z",
     "start_time": "2024-12-05T11:01:34.302007Z"
    }
   },
   "cell_type": "code",
   "source": [
    "# model evaluation \n",
    "\n",
    "with torch.no_grad():\n",
    "    y_pred = model.forward(X_test_tensor)\n",
    "    y_pred = (y_pred > .5).float()\n",
    "    accuracy = (y_pred == y_test_tensor).float().mean()\n",
    "print(\"Accuracy: {:.2f}%\".format((accuracy.item()) * 100))"
   ],
   "id": "3b997a64faf42ff7",
   "outputs": [
    {
     "name": "stdout",
     "output_type": "stream",
     "text": [
      "Accuracy: 58.31%\n"
     ]
    }
   ],
   "execution_count": 262
  },
  {
   "metadata": {
    "ExecuteTime": {
     "end_time": "2024-12-05T11:01:34.321135Z",
     "start_time": "2024-12-05T11:01:34.319269Z"
    }
   },
   "cell_type": "code",
   "source": [
    "## with nn module \n",
    "\n",
    "import torch.nn as nn\n",
    "import torch.nn.functional as F\n",
    "import torch.optim as optim"
   ],
   "id": "5cd9e842fc6e924b",
   "outputs": [],
   "execution_count": 263
  },
  {
   "metadata": {
    "ExecuteTime": {
     "end_time": "2024-12-05T11:01:34.337226Z",
     "start_time": "2024-12-05T11:01:34.334672Z"
    }
   },
   "cell_type": "code",
   "source": [
    "class NNModel(nn.Module):\n",
    "    \n",
    "    def __init__(self, num_features):\n",
    "        super().__init__()\n",
    "        self.linear = nn.Linear(num_features, 1) # linear layer, only one neuron \n",
    "        self.sigmoid = nn.Sigmoid()\n",
    "    \n",
    "    def forward(self, inp_features):\n",
    "        out = self.linear(inp_features) # z = wx + b\n",
    "        out = self.sigmoid(out) # activation function \n",
    "        return out "
   ],
   "id": "1aa636da780be17d",
   "outputs": [],
   "execution_count": 264
  },
  {
   "metadata": {
    "ExecuteTime": {
     "end_time": "2024-12-05T11:01:34.353096Z",
     "start_time": "2024-12-05T11:01:34.350902Z"
    }
   },
   "cell_type": "code",
   "source": "features = torch.rand(10, 5)",
   "id": "c68fadf9986a7a2b",
   "outputs": [],
   "execution_count": 265
  },
  {
   "metadata": {
    "ExecuteTime": {
     "end_time": "2024-12-05T11:01:34.368149Z",
     "start_time": "2024-12-05T11:01:34.365515Z"
    }
   },
   "cell_type": "code",
   "source": "model = NNModel(features.shape[1])",
   "id": "d9a3e52e7b4c0424",
   "outputs": [],
   "execution_count": 266
  },
  {
   "metadata": {
    "ExecuteTime": {
     "end_time": "2024-12-05T11:01:34.386936Z",
     "start_time": "2024-12-05T11:01:34.383173Z"
    }
   },
   "cell_type": "code",
   "source": [
    "# model.forward(features) dont use this, do this instead \n",
    "\n",
    "model(features) # this will trigger model.forward()"
   ],
   "id": "64948dda6a4cd037",
   "outputs": [
    {
     "data": {
      "text/plain": [
       "tensor([[0.4877],\n",
       "        [0.4964],\n",
       "        [0.4486],\n",
       "        [0.4679],\n",
       "        [0.4649],\n",
       "        [0.4203],\n",
       "        [0.4219],\n",
       "        [0.4568],\n",
       "        [0.4495],\n",
       "        [0.4949]], grad_fn=<SigmoidBackward0>)"
      ]
     },
     "execution_count": 267,
     "metadata": {},
     "output_type": "execute_result"
    }
   ],
   "execution_count": 267
  },
  {
   "metadata": {
    "ExecuteTime": {
     "end_time": "2024-12-05T11:01:34.528894Z",
     "start_time": "2024-12-05T11:01:34.526152Z"
    }
   },
   "cell_type": "code",
   "source": "model.linear.weight",
   "id": "3c7e2c16f0d08790",
   "outputs": [
    {
     "data": {
      "text/plain": [
       "Parameter containing:\n",
       "tensor([[ 0.0808, -0.1867, -0.2735,  0.0196, -0.0729]], requires_grad=True)"
      ]
     },
     "execution_count": 268,
     "metadata": {},
     "output_type": "execute_result"
    }
   ],
   "execution_count": 268
  },
  {
   "metadata": {
    "ExecuteTime": {
     "end_time": "2024-12-05T11:01:34.549909Z",
     "start_time": "2024-12-05T11:01:34.545830Z"
    }
   },
   "cell_type": "code",
   "source": "model.linear.bias",
   "id": "1daa5773cb924b3d",
   "outputs": [
    {
     "data": {
      "text/plain": [
       "Parameter containing:\n",
       "tensor([0.0867], requires_grad=True)"
      ]
     },
     "execution_count": 269,
     "metadata": {},
     "output_type": "execute_result"
    }
   ],
   "execution_count": 269
  },
  {
   "metadata": {
    "ExecuteTime": {
     "end_time": "2024-12-05T11:01:34.570760Z",
     "start_time": "2024-12-05T11:01:34.566376Z"
    }
   },
   "cell_type": "code",
   "source": [
    "from torchinfo import summary\n",
    "\n",
    "summary(model, (10, 5))"
   ],
   "id": "56ae5686b73872f7",
   "outputs": [
    {
     "data": {
      "text/plain": [
       "==========================================================================================\n",
       "Layer (type:depth-idx)                   Output Shape              Param #\n",
       "==========================================================================================\n",
       "NNModel                                  [10, 1]                   --\n",
       "├─Linear: 1-1                            [10, 1]                   6\n",
       "├─Sigmoid: 1-2                           [10, 1]                   --\n",
       "==========================================================================================\n",
       "Total params: 6\n",
       "Trainable params: 6\n",
       "Non-trainable params: 0\n",
       "Total mult-adds (Units.MEGABYTES): 0.00\n",
       "==========================================================================================\n",
       "Input size (MB): 0.00\n",
       "Forward/backward pass size (MB): 0.00\n",
       "Params size (MB): 0.00\n",
       "Estimated Total Size (MB): 0.00\n",
       "=========================================================================================="
      ]
     },
     "execution_count": 270,
     "metadata": {},
     "output_type": "execute_result"
    }
   ],
   "execution_count": 270
  },
  {
   "metadata": {
    "ExecuteTime": {
     "end_time": "2024-12-05T11:01:34.593558Z",
     "start_time": "2024-12-05T11:01:34.591378Z"
    }
   },
   "cell_type": "code",
   "source": "features.shape",
   "id": "66ef1a93ab1e3ac",
   "outputs": [
    {
     "data": {
      "text/plain": [
       "torch.Size([10, 5])"
      ]
     },
     "execution_count": 271,
     "metadata": {},
     "output_type": "execute_result"
    }
   ],
   "execution_count": 271
  },
  {
   "metadata": {
    "ExecuteTime": {
     "end_time": "2024-12-05T11:01:34.617404Z",
     "start_time": "2024-12-05T11:01:34.614935Z"
    }
   },
   "cell_type": "code",
   "source": [
    "# create a neural network with hidden weights, use relu and sigmoid\n",
    "\n",
    "class NNModel(nn.Module):\n",
    "    \n",
    "    def __init__(self, num_features):\n",
    "        super().__init__()\n",
    "        self.linear1 = nn.Linear(num_features, 3) # linear layer, only one neuron\n",
    "        self.relu = nn.ReLU() # hidden layer \n",
    "        self.linear2 = nn.Linear(3, 1)\n",
    "        self.sigmoid = nn.Sigmoid()\n",
    "    \n",
    "    def forward(self, inp_features):\n",
    "        out = self.linear1(inp_features) # z = wx + b\n",
    "        out = self.relu(out) # relu activation \n",
    "        out = self.linear2(out) # final layer \n",
    "        out = self.sigmoid(out) # activation function \n",
    "        return out \n"
   ],
   "id": "4cca6c7c72caaeb9",
   "outputs": [],
   "execution_count": 272
  },
  {
   "metadata": {
    "ExecuteTime": {
     "end_time": "2024-12-05T11:01:34.633080Z",
     "start_time": "2024-12-05T11:01:34.631001Z"
    }
   },
   "cell_type": "code",
   "source": "model1 = NNModel(features.shape[1])",
   "id": "83f0f2e34a586530",
   "outputs": [],
   "execution_count": 273
  },
  {
   "metadata": {
    "ExecuteTime": {
     "end_time": "2024-12-05T11:01:34.650287Z",
     "start_time": "2024-12-05T11:01:34.647057Z"
    }
   },
   "cell_type": "code",
   "source": "model1.linear1.weight",
   "id": "49a95dd32438dab",
   "outputs": [
    {
     "data": {
      "text/plain": [
       "Parameter containing:\n",
       "tensor([[-0.1278,  0.4470,  0.3299, -0.3788, -0.2063],\n",
       "        [ 0.1642, -0.0280, -0.3216, -0.0878, -0.0084],\n",
       "        [ 0.3977, -0.2818,  0.3140, -0.3685, -0.0513]], requires_grad=True)"
      ]
     },
     "execution_count": 274,
     "metadata": {},
     "output_type": "execute_result"
    }
   ],
   "execution_count": 274
  },
  {
   "metadata": {
    "ExecuteTime": {
     "end_time": "2024-12-05T11:01:34.674827Z",
     "start_time": "2024-12-05T11:01:34.671999Z"
    }
   },
   "cell_type": "code",
   "source": "model1.linear2.weight",
   "id": "97ce8950c465069e",
   "outputs": [
    {
     "data": {
      "text/plain": [
       "Parameter containing:\n",
       "tensor([[ 0.4300, -0.3872,  0.2748]], requires_grad=True)"
      ]
     },
     "execution_count": 275,
     "metadata": {},
     "output_type": "execute_result"
    }
   ],
   "execution_count": 275
  },
  {
   "metadata": {
    "ExecuteTime": {
     "end_time": "2024-12-05T11:01:34.702181Z",
     "start_time": "2024-12-05T11:01:34.697269Z"
    }
   },
   "cell_type": "code",
   "source": "summary(model1, (10, 5))",
   "id": "d18649fbd7a1527b",
   "outputs": [
    {
     "data": {
      "text/plain": [
       "==========================================================================================\n",
       "Layer (type:depth-idx)                   Output Shape              Param #\n",
       "==========================================================================================\n",
       "NNModel                                  [10, 1]                   --\n",
       "├─Linear: 1-1                            [10, 3]                   18\n",
       "├─ReLU: 1-2                              [10, 3]                   --\n",
       "├─Linear: 1-3                            [10, 1]                   4\n",
       "├─Sigmoid: 1-4                           [10, 1]                   --\n",
       "==========================================================================================\n",
       "Total params: 22\n",
       "Trainable params: 22\n",
       "Non-trainable params: 0\n",
       "Total mult-adds (Units.MEGABYTES): 0.00\n",
       "==========================================================================================\n",
       "Input size (MB): 0.00\n",
       "Forward/backward pass size (MB): 0.00\n",
       "Params size (MB): 0.00\n",
       "Estimated Total Size (MB): 0.00\n",
       "=========================================================================================="
      ]
     },
     "execution_count": 276,
     "metadata": {},
     "output_type": "execute_result"
    }
   ],
   "execution_count": 276
  },
  {
   "metadata": {
    "ExecuteTime": {
     "end_time": "2024-12-05T11:01:34.718949Z",
     "start_time": "2024-12-05T11:01:34.716715Z"
    }
   },
   "cell_type": "code",
   "source": [
    "class NNModel1(nn.Module):\n",
    "    \n",
    "    def __init__(self, num_features):\n",
    "        super().__init__()\n",
    "        self.network = nn.Sequential(\n",
    "            nn.Linear(num_features, 3), # linear layer, only one neuron\n",
    "            nn.ReLU(), # hidden layer \n",
    "            nn.Linear(3, 1),\n",
    "            nn.Sigmoid(),\n",
    "        )\n",
    "    \n",
    "    def forward(self, inp_features):\n",
    "        out = self.network(inp_features)\n",
    "        return out"
   ],
   "id": "6b578811976a1ac7",
   "outputs": [],
   "execution_count": 277
  },
  {
   "metadata": {
    "ExecuteTime": {
     "end_time": "2024-12-05T11:01:34.737056Z",
     "start_time": "2024-12-05T11:01:34.734172Z"
    }
   },
   "cell_type": "code",
   "source": "model2 = NNModel1(features.shape[1])",
   "id": "98ab73269af7b6f7",
   "outputs": [],
   "execution_count": 278
  },
  {
   "metadata": {
    "ExecuteTime": {
     "end_time": "2024-12-05T11:01:34.755986Z",
     "start_time": "2024-12-05T11:01:34.752269Z"
    }
   },
   "cell_type": "code",
   "source": "model2(features)",
   "id": "30fe8ef9f280053b",
   "outputs": [
    {
     "data": {
      "text/plain": [
       "tensor([[0.3947],\n",
       "        [0.3959],\n",
       "        [0.3955],\n",
       "        [0.3951],\n",
       "        [0.3965],\n",
       "        [0.3974],\n",
       "        [0.3956],\n",
       "        [0.3952],\n",
       "        [0.3964],\n",
       "        [0.3942]], grad_fn=<SigmoidBackward0>)"
      ]
     },
     "execution_count": 279,
     "metadata": {},
     "output_type": "execute_result"
    }
   ],
   "execution_count": 279
  },
  {
   "metadata": {
    "ExecuteTime": {
     "end_time": "2024-12-05T11:01:34.855938Z",
     "start_time": "2024-12-05T11:01:34.853952Z"
    }
   },
   "cell_type": "code",
   "source": [
    "## Model Building \n",
    "\n",
    "class BreastCancerModel1(nn.Module):\n",
    "    \n",
    "    def __init__(self, inp_features):\n",
    "        super().__init__()\n",
    "        self.linear = nn.Linear(inp_features, 1, dtype=torch.float64)\n",
    "        self.sigmoid = nn.Sigmoid()\n",
    "        \n",
    "    def forward(self, features):\n",
    "        out = self.linear(features)\n",
    "        out = self.sigmoid(out)\n",
    "        return out"
   ],
   "id": "770d6ef098df102d",
   "outputs": [],
   "execution_count": 280
  },
  {
   "metadata": {
    "ExecuteTime": {
     "end_time": "2024-12-05T11:01:34.864688Z",
     "start_time": "2024-12-05T11:01:34.862489Z"
    }
   },
   "cell_type": "code",
   "source": "X_train_tensor.shape",
   "id": "d7defcb7e2bbdc13",
   "outputs": [
    {
     "data": {
      "text/plain": [
       "torch.Size([455, 30])"
      ]
     },
     "execution_count": 281,
     "metadata": {},
     "output_type": "execute_result"
    }
   ],
   "execution_count": 281
  },
  {
   "metadata": {
    "ExecuteTime": {
     "end_time": "2024-12-05T11:01:34.893701Z",
     "start_time": "2024-12-05T11:01:34.890907Z"
    }
   },
   "cell_type": "code",
   "source": "X_train_tensor.shape, X_test_tensor.shape, y_test_tensor.shape, y_train_tensor.shape",
   "id": "1afe8bb941e59ef9",
   "outputs": [
    {
     "data": {
      "text/plain": [
       "(torch.Size([455, 30]),\n",
       " torch.Size([114, 30]),\n",
       " torch.Size([114]),\n",
       " torch.Size([455]))"
      ]
     },
     "execution_count": 282,
     "metadata": {},
     "output_type": "execute_result"
    }
   ],
   "execution_count": 282
  },
  {
   "metadata": {
    "ExecuteTime": {
     "end_time": "2024-12-05T11:01:34.901251Z",
     "start_time": "2024-12-05T11:01:34.899060Z"
    }
   },
   "cell_type": "code",
   "source": "loss_function = nn.BCELoss()",
   "id": "ff1284c20254be16",
   "outputs": [],
   "execution_count": 283
  },
  {
   "metadata": {
    "ExecuteTime": {
     "end_time": "2024-12-05T11:01:34.922018Z",
     "start_time": "2024-12-05T11:01:34.914750Z"
    }
   },
   "cell_type": "code",
   "source": [
    "## Training Pipeline \n",
    "epochs = 25\n",
    "model = BreastCancerModel1(X_train_tensor.shape[1])\n",
    "\n",
    "for epoch in range(epochs):\n",
    "    # forward pass  \n",
    "    y_pred = model(X_train_tensor)\n",
    "    # print(y_pred)\n",
    "    # loss calculate\n",
    "    loss = loss_function(y_pred, y_train_tensor.view(-1, 1).type(torch.float64))\n",
    "    # backward pass\n",
    "    loss.backward()\n",
    "    # parameters update\n",
    "    with torch.no_grad():\n",
    "        model.linear.weight -= lr * model.linear.weight.grad\n",
    "        model.linear.bias -= lr * model.linear.bias.grad\n",
    "    # zero gradient \n",
    "    model.linear.weight.grad.zero_()\n",
    "    model.linear.bias.grad.zero_()\n",
    "    # Print loss in each epoch \n",
    "    print(f\"Epoch: {epoch + 1}, Loss: {loss.item()}\")"
   ],
   "id": "7abd6b831f6bfc54",
   "outputs": [
    {
     "name": "stdout",
     "output_type": "stream",
     "text": [
      "Epoch: 1, Loss: 0.7776857766595693\n",
      "Epoch: 2, Loss: 0.5552899340054914\n",
      "Epoch: 3, Loss: 0.44277997897948623\n",
      "Epoch: 4, Loss: 0.3782306175813678\n",
      "Epoch: 5, Loss: 0.33633047520481496\n",
      "Epoch: 6, Loss: 0.3066879522470343\n",
      "Epoch: 7, Loss: 0.284413864502619\n",
      "Epoch: 8, Loss: 0.26692715536612394\n",
      "Epoch: 9, Loss: 0.2527390886131039\n",
      "Epoch: 10, Loss: 0.24093007485655313\n",
      "Epoch: 11, Loss: 0.230900474232197\n",
      "Epoch: 12, Loss: 0.2222417822644745\n",
      "Epoch: 13, Loss: 0.21466547983137008\n",
      "Epoch: 14, Loss: 0.20796153209404195\n",
      "Epoch: 15, Loss: 0.20197305428366716\n",
      "Epoch: 16, Loss: 0.196580238824439\n",
      "Epoch: 17, Loss: 0.1916898154045217\n",
      "Epoch: 18, Loss: 0.1872279382212348\n",
      "Epoch: 19, Loss: 0.18313526385716034\n",
      "Epoch: 20, Loss: 0.17936346858165161\n",
      "Epoch: 21, Loss: 0.17587273486803384\n",
      "Epoch: 22, Loss: 0.17262990489479393\n",
      "Epoch: 23, Loss: 0.16960710211319896\n",
      "Epoch: 24, Loss: 0.1667806871451338\n",
      "Epoch: 25, Loss: 0.16413045635139992\n"
     ]
    }
   ],
   "execution_count": 284
  },
  {
   "metadata": {
    "ExecuteTime": {
     "end_time": "2024-12-05T11:01:34.943991Z",
     "start_time": "2024-12-05T11:01:34.937455Z"
    }
   },
   "cell_type": "code",
   "source": [
    "## Training Pipeline \n",
    "## Remove optimization and use torch.optim \n",
    "epochs = 25\n",
    "lr = .5\n",
    "model = BreastCancerModel1(X_train_tensor.shape[1])\n",
    "optimizer = optim.SGD(model.parameters(), lr=lr)\n",
    "\n",
    "for epoch in range(epochs):\n",
    "    # forward pass  \n",
    "    y_pred = model(X_train_tensor)\n",
    "    # print(y_pred)\n",
    "    # loss calculate\n",
    "    loss = loss_function(y_pred, y_train_tensor.view(-1, 1).type(torch.float64))\n",
    "    # backward pass\n",
    "    loss.backward()\n",
    "    # clear gradients \n",
    "    optimizer.zero_grad()\n",
    "    # parameters update\n",
    "    '''\n",
    "    with torch.no_grad():\n",
    "        model.linear.weight -= lr * model.linear.weight.grad\n",
    "        model.linear.bias -= lr * model.linear.bias.grad\n",
    "    '''\n",
    "    optimizer.step()\n",
    "    # zero gradient \n",
    "    '''\n",
    "    model.linear.weight.grad.zero_()\n",
    "    model.linear.bias.grad.zero_()\n",
    "    '''\n",
    "    # Print loss in each epoch \n",
    "    print(f\"Epoch: {epoch + 1}, Loss: {loss.item()}\")"
   ],
   "id": "49d1abe425f20d1a",
   "outputs": [
    {
     "name": "stdout",
     "output_type": "stream",
     "text": [
      "Epoch: 1, Loss: 0.7095834044141647\n",
      "Epoch: 2, Loss: 0.7095834044141647\n",
      "Epoch: 3, Loss: 0.7095834044141647\n",
      "Epoch: 4, Loss: 0.7095834044141647\n",
      "Epoch: 5, Loss: 0.7095834044141647\n",
      "Epoch: 6, Loss: 0.7095834044141647\n",
      "Epoch: 7, Loss: 0.7095834044141647\n",
      "Epoch: 8, Loss: 0.7095834044141647\n",
      "Epoch: 9, Loss: 0.7095834044141647\n",
      "Epoch: 10, Loss: 0.7095834044141647\n",
      "Epoch: 11, Loss: 0.7095834044141647\n",
      "Epoch: 12, Loss: 0.7095834044141647\n",
      "Epoch: 13, Loss: 0.7095834044141647\n",
      "Epoch: 14, Loss: 0.7095834044141647\n",
      "Epoch: 15, Loss: 0.7095834044141647\n",
      "Epoch: 16, Loss: 0.7095834044141647\n",
      "Epoch: 17, Loss: 0.7095834044141647\n",
      "Epoch: 18, Loss: 0.7095834044141647\n",
      "Epoch: 19, Loss: 0.7095834044141647\n",
      "Epoch: 20, Loss: 0.7095834044141647\n",
      "Epoch: 21, Loss: 0.7095834044141647\n",
      "Epoch: 22, Loss: 0.7095834044141647\n",
      "Epoch: 23, Loss: 0.7095834044141647\n",
      "Epoch: 24, Loss: 0.7095834044141647\n",
      "Epoch: 25, Loss: 0.7095834044141647\n"
     ]
    }
   ],
   "execution_count": 285
  },
  {
   "metadata": {
    "ExecuteTime": {
     "end_time": "2024-12-05T11:01:35.025171Z",
     "start_time": "2024-12-05T11:01:35.022831Z"
    }
   },
   "cell_type": "code",
   "source": [
    "with torch.no_grad():\n",
    "    y_pred = model(X_test_tensor)\n",
    "    y_pred = (y_pred > .5).float()\n",
    "    accuracy = (y_pred == y_test_tensor).float().mean()\n",
    "    print(f\"Accuracy: {(accuracy.item()) * 100}%\")"
   ],
   "id": "1246c1c5cde1ee24",
   "outputs": [
    {
     "name": "stdout",
     "output_type": "stream",
     "text": [
      "Accuracy: 52.462297677993774%\n"
     ]
    }
   ],
   "execution_count": 286
  },
  {
   "metadata": {
    "ExecuteTime": {
     "end_time": "2024-12-05T11:01:35.115806Z",
     "start_time": "2024-12-05T11:01:35.114331Z"
    }
   },
   "cell_type": "code",
   "source": "",
   "id": "41fc9b820043f43",
   "outputs": [],
   "execution_count": null
  }
 ],
 "metadata": {
  "kernelspec": {
   "display_name": "Python 3",
   "language": "python",
   "name": "python3"
  },
  "language_info": {
   "codemirror_mode": {
    "name": "ipython",
    "version": 2
   },
   "file_extension": ".py",
   "mimetype": "text/x-python",
   "name": "python",
   "nbconvert_exporter": "python",
   "pygments_lexer": "ipython2",
   "version": "2.7.6"
  }
 },
 "nbformat": 4,
 "nbformat_minor": 5
}
